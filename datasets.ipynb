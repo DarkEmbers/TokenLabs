{
 "cells": [
  {
   "cell_type": "code",
   "execution_count": 106,
   "id": "d3a2caf3",
   "metadata": {},
   "outputs": [],
   "source": [
    "import os\n",
    "from pathlib import Path\n",
    "from datasets import load_dataset\n",
    "import pandas as pd\n",
    "import html\n",
    "from transformers import AutoTokenizer\n",
    "from itertools import islice\n",
    "from datasets import interleave_datasets"
   ]
  },
  {
   "cell_type": "markdown",
   "id": "f8e3678e",
   "metadata": {},
   "source": [
    "### Load Dataset Not on Hub"
   ]
  },
  {
   "cell_type": "markdown",
   "id": "4148f405",
   "metadata": {},
   "source": [
    "#### Local Dataset"
   ]
  },
  {
   "cell_type": "code",
   "execution_count": 13,
   "id": "05e12316",
   "metadata": {},
   "outputs": [
    {
     "name": "stdout",
     "output_type": "stream",
     "text": [
      "Files already exist\n"
     ]
    }
   ],
   "source": [
    "if Path(\"./Data/SQuAD_it-test.json.gz\").is_file() and Path(\"./Data/SQuAD_it-train.json.gz\").is_file():\n",
    "\tprint(\"Files already exist\")\n",
    " \n",
    "else:\n",
    "\t!wget2 https://github.com/crux82/squad-it/raw/master/SQuAD_it-train.json.gz\n",
    "\t!wget2 https://github.com/crux82/squad-it/raw/master/SQuAD_it-test.json.gz\n",
    "\t# Move files to data folder\n",
    "\tos.makedirs(\"Data\", exist_ok=True)\n",
    "\tos.replace(\"SQuAD_it-train.json.gz\", \"Data/SQuAD_it-train.json.gz\")\n",
    "\tos.replace(\"SQuAD_it-test.json.gz\", \"Data/SQuAD_it-test.json.gz\")"
   ]
  },
  {
   "cell_type": "code",
   "execution_count": null,
   "id": "01c9dd59",
   "metadata": {},
   "outputs": [
    {
     "data": {
      "text/plain": [
       "DatasetDict({\n",
       "    train: Dataset({\n",
       "        features: ['title', 'paragraphs'],\n",
       "        num_rows: 442\n",
       "    })\n",
       "    test: Dataset({\n",
       "        features: ['title', 'paragraphs'],\n",
       "        num_rows: 48\n",
       "    })\n",
       "})"
      ]
     },
     "execution_count": 19,
     "metadata": {},
     "output_type": "execute_result"
    }
   ],
   "source": [
    "squad_it_dataset = load_dataset(\n",
    "    \"json\", \n",
    "    data_files={\n",
    "        \"train\": \"./Data/SQuAD_it-train.json\",\n",
    "        \"test\": \"./Data/SQuAD_it-test.json\"\n",
    "\t}, \n",
    "    field=\"data\"\n",
    ")\n",
    "\n",
    "squad_it_dataset"
   ]
  },
  {
   "cell_type": "markdown",
   "id": "61feeb81",
   "metadata": {},
   "source": [
    "#### Remote Dataset"
   ]
  },
  {
   "cell_type": "code",
   "execution_count": null,
   "id": "c11488c3",
   "metadata": {},
   "outputs": [],
   "source": [
    "url = \"https://github.com/crux82/squad-it/raw/master/\"\n",
    "data_files = {\n",
    "    \"train\": url + \"SQuAD_it-train.json.gz\",\n",
    "    \"test\": url + \"SQuAD_it-test.json.gz\",\n",
    "}\n",
    "squad_it_dataset = load_dataset(\"json\", data_files=data_files, field=\"data\")"
   ]
  },
  {
   "cell_type": "markdown",
   "id": "c4ec0a00",
   "metadata": {},
   "source": [
    "### Dataset Preparation"
   ]
  },
  {
   "cell_type": "code",
   "execution_count": 2,
   "id": "889fb4e6",
   "metadata": {},
   "outputs": [
    {
     "name": "stdout",
     "output_type": "stream",
     "text": [
      "File already exists\n"
     ]
    }
   ],
   "source": [
    "if not Path(\"./Data/drugsComTrain_raw.tsv\").is_file() and not Path(\"./Data/drugsComTest_raw.tsv\").is_file():\n",
    "\t!wget2 \"https://archive.ics.uci.edu/ml/machine-learning-databases/00462/drugsCom_raw.zip\"\n",
    "\tos.makedirs(\"Data\", exist_ok=True)\n",
    "\tos.replace(\"drugsCom_raw.zip\", \"Data/drugsCom_raw.zip\")\n",
    "\n",
    "else:\n",
    "\tprint(\"File already exists\")"
   ]
  },
  {
   "cell_type": "code",
   "execution_count": 3,
   "id": "c3052c6d",
   "metadata": {},
   "outputs": [
    {
     "name": "stdout",
     "output_type": "stream",
     "text": [
      "DatasetDict({\n",
      "    train: Dataset({\n",
      "        features: ['Unnamed: 0', 'drugName', 'condition', 'review', 'rating', 'date', 'usefulCount'],\n",
      "        num_rows: 161297\n",
      "    })\n",
      "    test: Dataset({\n",
      "        features: ['Unnamed: 0', 'drugName', 'condition', 'review', 'rating', 'date', 'usefulCount'],\n",
      "        num_rows: 53766\n",
      "    })\n",
      "})\n"
     ]
    },
    {
     "data": {
      "application/vnd.microsoft.datawrangler.viewer.v0+json": {
       "columns": [
        {
         "name": "index",
         "rawType": "int64",
         "type": "integer"
        },
        {
         "name": "Unnamed: 0",
         "rawType": "int64",
         "type": "integer"
        },
        {
         "name": "drugName",
         "rawType": "object",
         "type": "string"
        },
        {
         "name": "condition",
         "rawType": "object",
         "type": "unknown"
        },
        {
         "name": "review",
         "rawType": "object",
         "type": "string"
        },
        {
         "name": "rating",
         "rawType": "float64",
         "type": "float"
        },
        {
         "name": "date",
         "rawType": "object",
         "type": "string"
        },
        {
         "name": "usefulCount",
         "rawType": "int64",
         "type": "integer"
        }
       ],
       "ref": "f7ca405b-6424-480d-bc61-5476205797a1",
       "rows": [
        [
         "0",
         "87571",
         "Naproxen",
         "Gout, Acute",
         "\"like the previous person mention, I&#039;m a strong believer of aleve, it works faster for my gout than the prescription meds I take. No more going to the doctor for refills.....Aleve works!\"",
         "9.0",
         "September 2, 2015",
         "36"
        ],
        [
         "1",
         "178045",
         "Duloxetine",
         "ibromyalgia",
         "\"I have taken Cymbalta for about a year and a half for fibromyalgia pain. It is great\r\nas a pain reducer and an anti-depressant, however, the side effects outweighed \r\nany benefit I got from it. I had trouble with restlessness, being tired constantly,\r\ndizziness, dry mouth, numbness and tingling in my feet, and horrible sweating. I am\r\nbeing weaned off of it now. Went from 60 mg to 30mg and now to 15 mg. I will be\r\noff completely in about a week. The fibro pain is coming back, but I would rather deal with it than the side effects.\"",
         "3.0",
         "November 7, 2011",
         "13"
        ],
        [
         "2",
         "80482",
         "Mobic",
         "Inflammatory Conditions",
         "\"I have been taking Mobic for over a year with no side effects other than an elevated blood pressure.  I had severe knee and ankle pain which completely went away after taking Mobic.  I attempted to stop the medication however pain returned after a few days.\"",
         "10.0",
         "June 5, 2013",
         "128"
        ],
        [
         "3",
         "159268",
         "TriNessa",
         "Birth Control",
         "\"I am now 21 and have been on TriNessa since I was 15 years old, so 6 years on the same pill is a long time, obviously I love it. I originally was placed on the pill to control my VERY painful pains and cramps during my periods, and to help control acne.  Eventually when I became sexually active when I was 18, the pill was also important as birth control. Never once have I ever had a &quot;pregnancy scare&quot; while on this pill.  I have not noticed any negative effects, no excessive weight gain, or mood swings. The first few months I was on the pill, I had some spotting but after 3 months or so that stopped.  Come time for my period week, my period was a lot less painful and I had lighter bleeding as well. Strongly recommended!\"",
         "10.0",
         "October 21, 2010",
         "81"
        ],
        [
         "4",
         "205477",
         "Pristiq",
         "Depression",
         "\"I was originally on Prozac 20mg for my depression.  I found the Prozac helpful, but emotionally numbing.  I am participating in psychotherapy and it got to the point that I couldn&#039;t really access my feelings and it was interfering with my therapy. I spoke to my doctor and he switched me to Pristiq 50mg. I found that it was easy to adjust to (some nighttime sweating but that&#039;s about it).  It gives me very good control of my depression.  My irritability is also very well controlled.  However, I am now able to access my feelings when I need to (such as in therapy) and I feel less numb. I am still able to manage stress just as well as when I was on Prozac, yet I don&#039;t feel so disconnected from the world and from myself.\"",
         "10.0",
         "July 13, 2013",
         "65"
        ],
        [
         "5",
         "37296",
         "Vyvanse",
         "ADHD",
         "\"I&#039;ve been taking this medication for many months now. I take it on work days mostly &amp; days when I need to get up and go. I still have depression and sometimes it&#039;s hard to sleep but not always. It helps if you love food because I don&#039;t over eat but if I forget to bring a snack to work I get a little nauseous or I just feel super hungry by the end of my shift because I forget about food for like 7-9 hours. I try to eat food before I take it. Girls at work ask me what helps me be confident and sell stuff and I tell them vyvanse. I have depression and anxiety but this helps so much. I do feel really tired and like I don&#039;t want to do stuff on days I don&#039;t take it and after it wears off. So my doctors trying me on brintellex or something too.\"",
         "9.0",
         "January 31, 2016",
         "11"
        ],
        [
         "6",
         "225540",
         "Bupropion",
         "Depression",
         "\"I was previously taking 150 mg for years and it stopped working. Just started 300 mg XL three days ago and I feel great! I suffer from mild depression and anxiety/rage. In one day I noticed I had more energy and felt an overall feeling of hope and joy. I also have a terrible sweet tooth and noticed that it took my cravings away (I didn&#039;t expect that!). Since the holidays are here, people have been giving me chocolate and baked goods and I&#039;m not even tempted. I feel great!\"",
         "9.0",
         "December 23, 2013",
         "110"
        ],
        [
         "7",
         "194581",
         "Atorvastatin",
         "High Cholesterol, Familial Homozygous",
         "\"My doctor switched me from simvastin 80 mg to atrovastatin 20 mg because my cholesterol started to go up again from 130 to 154. This is only day four of taking this medicine and I feel like I was hit by a brick wall. I feel so tired and have to force myself to get out of bed. I also feel that&#039;s its effecting my cognitive abilities.. Calling my doctor today to switch...\"",
         "1.0",
         "February 7, 2013",
         "63"
        ],
        [
         "8",
         "47908",
         "Adapalene",
         "Acne",
         "\"When I moved to a place with a really hot climate,I started having horrible acne.I never had any issues with my skin before and i was devastated, I was 28 and having skin problems .I tried every facial wash,creams and scrubs. Nothing worked. Finally decided to see a derma after 2 yrs of fighting acne. He prescribed clindamycin and Differin. First weeks of using,my skin dried so badly. It was sore and sensitive esp around the eye area. Gradually though, my face cleared. It also helped slowly lighten the dark spots from healed acne.I didn&#039;t have any of those initial breakouts but the change was really very gradual. It does work. Just be patient. I&#039;m now happy with my skin. Tip:after washing,MOISTURIZE! Then apply differin. Goodluck :-)\"",
         "9.0",
         "April 10, 2015",
         "63"
        ],
        [
         "9",
         "28843",
         "Lexapro",
         "Anxiety",
         "\"I LOVE LEXAPRO. I had really bad anxiety before Lexapro and now I feel much calmer and more in control of my life.  I only take 5mgs because my body is super sensitive but I can definitely feel and see a change.  Sometimes I still suffer from anxiety during PMS but during the rest of the month I&#039;m so happy and life is so much easier to deal with.  Lexapro was a life saver for me.\"",
         "10.0",
         "October 18, 2009",
         "53"
        ],
        [
         "10",
         "208007",
         "Suprep Bowel Prep Kit",
         "Bowel Preparation",
         "\"Had my 3rd colonoscopy today, and this is the first time I have used Suprep. This is the first time I feel normal after the procedure! All prep medicines taste yucky, but because Suprep requires only 16oz. of liquid nastiness, followed by 32 oz. of water (twice); it was not unbearable. I have vomited while taking previous preps, but did not with Suprep. Yes, it is very salty and sweet, but if you use a straw it keeps it off your lips. I ended up taking about 5 sips with a straw over a 20-minute period to get it down, as any faster would have made me puke. Drinking the 32 oz. water afterward was not hard because the saltiness made you thirsty and want to drink it. I will recommend Suprep over all other preps to my friends.\"",
         "8.0",
         "February 12, 2014",
         "31"
        ],
        [
         "11",
         "156621",
         "Dulaglutide",
         "Diabetes, Type 2",
         "\"6 weeks on Trulicity 1.5 injection and my continued previous metaformin 4 each day. My last injection left side I had blood on injecting and later purple  around that local site. \r\nFor the past 2 weeks I&#039;ve had a sore inside the right floor of the nostril which is uncomfortable. \r\nInitially I used to feel full all the time but now, I have a desire to eat more. \r\nMy weight has dropped considerably, but this morning has risen. \r\nGenerally my energy level has been better. My blood sugar is mostly 6.2 and lower. Half hour after food I note my sugar hasn&#039;t gone beyond 8 and after 2 hours I tested and found it was back to 6.7 or lower. \r\nI am more actively engaged in doing chores. Metaformin I found myself doing stroking movement all the time.\"",
         "8.0",
         "January 31, 2017",
         "9"
        ],
        [
         "12",
         "133717",
         "Bactrim DS",
         "Urinary Tract Infection",
         "\"I have been suffering with a UTI for at least a month and a half, I have been prescribed nitrofurantonin and Cipro 2 times...with those drugs I had still had the urge to urinate and immediately when I stopped those two antibiotics the symptoms came right back. Doctors were getting ready to send me to a urologist until I mentioned bactrim. After one dose of the antibiotic I was feeling 80% better. I haven&#039;t had any side effects yet and its day 2...These drug is God sent!\"",
         "10.0",
         "October 15, 2015",
         "20"
        ],
        [
         "13",
         "161247",
         "Ortho Tri-Cyclen",
         "Birth Control",
         "\"My experience with this has not been good so far. I previously lost almost 40 lbs before starting this birth control and have gained 20 lbs since i starting taking Trycyclen. I&#039;m very active and eat very healthy, also my acne has come back in full affect. Not impressed, getting my doctor to switch me immediately\"",
         "5.0",
         "February 26, 2017",
         "5"
        ],
        [
         "14",
         "31677",
         "Miconazole",
         "Vaginal Yeast Infection",
         "\"Can I give this product a big fat zero? I&#039;m pregnant and never had YI until now - my third pregnancy - I had one earlier this pregnant with no issues but not the case for this time. Within minutes of inserting the cream my vagina was unbearably itchy and burning I jumped right in the shower in hopes to get it to stop burning/itching. It&#039;s been about 30 mins since I got out of shower and I&#039;m still feeling the side effects just not as bad. I will NEVER use this product again. Time to research a more natural method!\"",
         "1.0",
         "February 14, 2016",
         "4"
        ],
        [
         "15",
         "192420",
         "Drospirenone / ethinyl estradiol",
         "Birth Control",
         "\"Took Yasmin for 6 months now and had some nausea in the beginning but I think my body is getting used to the pill. Overall, my mood has gotten better, I used to experience mood swings. \r\nI&#039;m switching to Microgynon 30 and see how it works for me now.\"",
         "9.0",
         "October 9, 2014",
         "13"
        ],
        [
         "16",
         "140363",
         "Asenapine",
         "Bipolar Disorde",
         "\"I am bipolar and I was not on a mood stabilizer, due to severe sensitivity to side effects. I take Klonopin 1 mg and Lamictal 150mg twice a day. I was taking Ambien for sleep, but now with the Saphris, I don&#039;t need any sleep medicines and I am so much more relaxed and not stressed out. I&#039;m very happy that I&#039;ve finally found something that is working. My mind has slowed down, deeper sleep modes and less stress reactions to people. I feel great. Not manic great, just great. I&#039;m thankful to my family for their support and standing by me in the rough times of the disease. My family is benefiting as well. I have to rate this as a 10. The taste is bad, but the cherry is helping. Much luck to all to try and see if it can help you too!\"",
         "10.0",
         "March 31, 2012",
         "42"
        ],
        [
         "17",
         "31795",
         "Miconazole",
         "Vaginal Yeast Infection",
         "\"So I just used this for the first time about and hour ago and I was in an unbearable amount of pain. The burning sensation was so bad I was balling my eyes out and I had to use a warm wash cloth to wipe it off. I do not recommend. Unless you want to sit through over an hour of excruciating pain.\"",
         "1.0",
         "September 21, 2015",
         "5"
        ],
        [
         "18",
         "129059",
         "Levonorgestrel",
         "Emergency Contraception",
         "\"I had unprotected sex with my fiance on Nov 3, he finished completely inside me. I took Plan B with in 2 hours of this event. It happened again Nov 5, I took another Plan B. We want kids but I keep getting scared, don&#039;t judge. Side Effects: I had light to mild cramps from Nov 7th thru Nov 13th all day/night.Today, Nov 13th, my cramps became severe and I started my period, a day prior to my period due date. For this entire week I was PMSing, and had pregnancy like symptoms (backache, cramps, sensitive to some meat smells, extreme fatigue, bloating, I had some morning sweet cravings. I am also athletic, 145lbs, very active, all I can say is that PLAN B works! I booked my appt, to get birth control. Not ready for kids yet! good luck ladies\"",
         "10.0",
         "November 13, 2015",
         "9"
        ],
        [
         "19",
         "136765",
         "Sodium hyaluronate",
         "Osteoarthritis",
         "\"Had first shots in both knees 5 days ago.  Almost instant relief.  Not 100% but a very noticeable difference just leaving the drs. Office.  Also have a recent meniscus tear that the Dr. wanted to wait on and see if these shots helped.  Staying hydrated before the injections helped the shot pain.  A little cold spray and it was almost painless.  The only reason I didn&#039;t give it a ten is because I don&#039;t know the long term effects.\"",
         "9.0",
         "January 22, 2015",
         "48"
        ],
        [
         "20",
         "1675",
         "Uricalm",
         "46</span> users found this comment helpful.",
         "\"Great medication. Works fast and lasts all day long as long as you drink cranberry juice or water. Much better than AZO.\"",
         "10.0",
         "August 12, 2010",
         "46"
        ],
        [
         "21",
         "69456",
         "Buprenorphine",
         "Chronic Pain",
         "\"I was prescribed Suboxone, buprenorphine, for chronic pain in 2004. When the patch, Butrans, came along, I was given that, but it itched too much. Recently, I moved to an area that virtually has no idea that buprenorphine is great for pain relief. After much suffering, I found someone who would prescribe it for such, but my insurance also is behind the times and so after a few $200 copays, I heard about Belbuca so I tried it. After a couple of doses, I figured out the best way to open the pouch, and for the most part, it dissolved fine. The problem is its just too weak. The highest dose didn&#039;t cut it for me. I gave it up and accepted the generic sublingual tablets of buprenorphine, which are covered by my insurance. They are fine.\"",
         "4.0",
         "July 25, 2016",
         "17"
        ],
        [
         "22",
         "139088",
         "Phentermine",
         "Not Listed / Othe",
         "\"I took Phentermine for about a month with mild emotional side effects (anxiety/depression) but was happy with the effect it had on my appetite. I was exercising about 6 times a week, and in about 3 weeks lost around 15lbs. \r\nOn my fourth week, I woke up with chest pain radiating from my sternum throughout my chest, in to my back. It felt like someone was sitting on my chest and I was unable to catch my breath. Whenever I tried to inhale deeply to catch my breath, I would cough uncontrollably. Two days later I still have mild chest pain and have a depleted energy level. I had NO prior health problems whatsoever so this was absolutely shocking to me.\r\n\"",
         "5.0",
         "March 12, 2009",
         "8"
        ],
        [
         "23",
         "200724",
         "Varenicline",
         "Smoking Cessation",
         "\"This medicine was a life saver (literally).  I have tried quitting in the past two or three times and each time I went back to smoking my smoking intake increased.  I took this medicine for the three-month period and wha la!  I am free of tobacco.  I have smoked since I was 11 years old.  Now it has been a year and half smoke free and I am so so grateful!\"",
         "10.0",
         "September 12, 2009",
         "9"
        ],
        [
         "24",
         "128542",
         "Phentermine",
         "Weight Loss",
         "\"I couldn&#039;t sleep the whole time I took it but I dropped 10 pound in 1 week!\"",
         "10.0",
         "July 8, 2015",
         "44"
        ],
        [
         "25",
         "221973",
         "Fluconazole",
         "Vaginal Yeast Infection",
         "\"so i took this sat. had to wait 5 days fpr second dose. during the 5 days symptoms were mild. irritated more when i peed and wiped.  today is 5th day i took the 2nd pill this morn.. all symptoms cleared.. \"",
         "8.0",
         "May 20, 2016",
         "28"
        ],
        [
         "26",
         "16344",
         "Ethinyl estradiol / norethindrone",
         "Birth Control",
         "\"These pills are horrible. I&#039;ve been taking for about a year and had horrible side effects swollen sore breasts, horrible anxiety/depression, no sex drive at all, vaginal dryness, and chronic yeast infections. Only thing I don&#039;t have is the nausea! I will be getting off of these as soon as possible. I don&#039;t even feel like myself I feel like a emotional monster. DO NOT TAKE THESE PILLS. Even thought everyone reacts differently listen to your body!\"",
         "1.0",
         "February 20, 2016",
         "0"
        ],
        [
         "27",
         "114972",
         "Diazepam",
         "Anxiety",
         "\"Diazapan have saved my life I take two 5mg tablets a day. While on these meds my head seems more clearer I don&#039;t want to harm my self or others\"",
         "10.0",
         "January 9, 2016",
         "33"
        ],
        [
         "28",
         "142947",
         "Etonogestrel",
         "Birth Control",
         "\"The first couple of months  was good, but  after that I have increased acne and heavy spotting.\"",
         "1.0",
         "July 17, 2017",
         "0"
        ],
        [
         "29",
         "203478",
         "Anaprox-DS",
         "Pain",
         "\"I recommend if for girls if they have menstrual pain. It  helps alot, 10-15 mins after I take the pill I feel no more pain!\"",
         "10.0",
         "October 11, 2013",
         "17"
        ],
        [
         "30",
         "105034",
         "Olodaterol",
         "Not Listed / Othe",
         "\"I have had no problem with this medicine. It is much easier to use this medicine than the other medicine I was using.\"",
         "10.0",
         "June 19, 2016",
         "0"
        ],
        [
         "31",
         "48150",
         "Sumavel DosePro",
         "Migraine",
         "\"I was nervous about the pain, and even though it&#039;s needle-free, I have a bit of a needle phobia and the idea of any injection (even without a needle) was pretty rough for me to get over.  After talking myself up for about 30 minutes, I was finally able to give myself the dose.  It hurt a lot more than I was expecting, and bled more than my neurologist and pharmacist said it would, so immediately after administering it, I was pretty apprehensive.  I felt the side effects most people have reported (weakness, dizziness, heaviness, etc.), but I also had some nausea and I was really tired.  I felt near-immediate relief of about 50% of my migraine, and then took a power nap for about 45 minutes. When I woke up, I felt like a completely new person.\"",
         "9.0",
         "October 18, 2011",
         "9"
        ],
        [
         "32",
         "3659",
         "Formoterol",
         "Asthma, Maintenance",
         "\"Amazing for nocturnal asthma carries me through the night unlike ventolin I was waking to use this every few hours\"",
         "10.0",
         "April 8, 2017",
         "0"
        ],
        [
         "33",
         "199980",
         "Varenicline",
         "Smoking Cessation",
         "\"So far so good second day dry mouth has started which sucks but othwise I know I&#039;ll be going OK I will add more as time goes on I need support system and I don&#039;t have one thank you\"",
         "7.0",
         "February 26, 2016",
         "12"
        ],
        [
         "34",
         "33454",
         "Microgestin Fe 1 / 20",
         "Birth Control",
         "\"I read a lot of reviews so was so scared cuz it seem like a bad pill but honestly I love it so much the only side effect I have is dizziness &amp; nauseous but they are minimum after that I feel good. I have been on this pill for a week Today I will report after I finish my pack. BTW this is the 1st birth control pill I ever take\"",
         "10.0",
         "June 28, 2015",
         "4"
        ],
        [
         "35",
         "83287",
         "Paxil",
         "Depression",
         "\"I started Paxil in 2000, I was depressed, I stopped drinking vodka, no desire.. I was not cured instantly but have never wanted a &#039;drink&#039; since April 2000. I recently started talk therapy, and have been satisfied thus far. It is really letting all the wires connect better. Life will always be a challenge..BEST...January 2010.\"",
         "9.0",
         "January 24, 2010",
         "24"
        ],
        [
         "36",
         "161972",
         "Ciprofloxacin",
         "Urinary Tract Infection",
         "\"I had a very terrible UTI almost 7 yrs.ago and My urinalysis test revealed that my bacterial rate was above 100 which was way above normal!  After just 2 days of taking doc&#039;s prescriptn.,Cipro, I was in good shape again like nothing happened!..I was really amazed coz a few days before, I was in great pain, I had the worst fevers of my life and I could hardly even get on my feet!..Since then, only mild UTI has came back and that was only during my pregnancy which is common for pregnants and that was it!..Cipro did a great job for me, no any side effect as far I could remember and it&#039;s very much cheaper too!..\"",
         "10.0",
         "January 7, 2017",
         "11"
        ],
        [
         "37",
         "200842",
         "Varenicline",
         "Smoking Cessation",
         "\"I tried Chantix even though it scared me. I was doing good until day 6 and everything on the left side of my body went numb. I haven&#039;t smoked but that scared me enough that I will go cold turkey the rest of the way.\"",
         "5.0",
         "April 14, 2009",
         "12"
        ],
        [
         "38",
         "204388",
         "BuSpar",
         "Anxiety",
         "\"I&#039;ve been on Busiprone (10 mg twice a day) for about 2 weeks now and I have seen no improvement. My sleep is jacked up from it from either interupted sleep or vivid dreams. I dont think I&#039;m going to continue to use it. Xanax seemed to be the only thing that has helped me so far..\"",
         "2.0",
         "March 3, 2016",
         "46"
        ],
        [
         "39",
         "146518",
         "Tamsulosin",
         "Benign Prostatic Hyperplasia",
         "\"Almost immediately elimination of night time visits to bathroom...and accompanying discomfort  of urination ..could sleep all night and in the morning no painful urination... First night or 2  encountered mild side effects including mild nasal congestion and minor headaches or occasional back pain, but side effects went away after a few days... certainly manageable  but sensed no immediate or significant  flow improvements (strange) ....\r\r\n\r\r\nNow 2 weeks in flow is improving ...no erection issues except reduced semen (who cares) and occassional multiple orgasms...a great trade off... Give it a try for a month unless side effects are unbearable.but keep in mind such posts and blogs usually attract folks who have issues rather than those who dont\"",
         "9.0",
         "July 14, 2016",
         "89"
        ],
        [
         "40",
         "139216",
         "Phentermine",
         "Weight Loss",
         "\"I started taking phentermine on March 14th at 335lbs.  Today June 16th, I weigh 308lbs.  The pill is great for supressing your apppetite.  When I first started taking the pill, I had to make myself eat because I felt no desire for food all day long.  I pretty much eat whatever I want and still lose weight.  I believe that the lack of desire has caused a change in my portions that has been the main difference. I suffer from insomnia and anxiety but it could be because I have a lot of job stress lately.\"",
         "8.0",
         "June 16, 2008",
         "23"
        ],
        [
         "41",
         "99291",
         "Doxylamine",
         "Insomnia",
         "\"I took 2 Restavit tablets last night at 10pm, fell asleep about 11:30pm. I woke up a few times during the night but fell back asleep easily. It definitely works; great for insomnia but terrible (for me) the morning after. I woke up feeling totally unrefreshed and like a zombie. Had a cup of coffee and still felt that way. I have had to take the day off work as I felt like my ability to work was compromised. I went back to sleep and woke up at 1:30pm. I still have muscle weakness and have had to push myself to cook lunch. Sure, this medication is good for sleep, but the negative side effects lasting most of the next day have defeated the purpose of taking it for me. I will only take one IF I don&#039;t have anything on the next day!\"",
         "6.0",
         "December 17, 2013",
         "30"
        ],
        [
         "42",
         "146279",
         "Suboxone",
         "Opiate Dependence",
         "\"I have severe chronic pain and have had everything that every doctor ever wanted to try on me only to make everything worse. I have been on pain medicines for 10 years and I tried Suboxone. It&#039;s great for getting off the pain medicines because it stops the withdrawals but it doesn&#039;t work for pain for more than about a week. I tried it for a month but the pain I am in was just too much to handle for me.\"",
         "2.0",
         "July 16, 2009",
         "35"
        ],
        [
         "43",
         "154748",
         "Metronidazole",
         "Bacterial Vaginitis",
         "\"I have had bacterial vaginitis unknowingly for two and a half years and my obgyn prescribed me 500mg of metronidazole for seven days. Now I&#039;ve read alot of comments about how this didn&#039;t work or that didn&#039;t work and whilst I haven&#039;t tried all of these and every woman&#039;s body is different. I do know that most couples tend to do &quot;it&quot; more than once a week and I don&#039;t know if your obgyn told you this or not but if you have sex unprotected whilst taking metronidazole or flagyl it just gives the BV on him and back in YOU. Which causes the bacteria to just keep getting transferred so if you wanna get rid of it and haven&#039;t tried not having g sex then try to not have sex during the 7 days  and 48 hrs after the seven days. It worked for me!\"",
         "7.0",
         "May 21, 2017",
         "14"
        ],
        [
         "44",
         "9313",
         "Lo Loestrin Fe",
         "Birth Control",
         "\"This was the first pill I was prescribed. I never became pregnant although towards the end I felt symptoms monthly. After a year, my periods became irregular. My sex drive decreased severely and I became dried up. My acne never changed. I gained weight, but I won&#039;t say it was cause of the pill.\"",
         "4.0",
         "December 14, 2016",
         "1"
        ],
        [
         "45",
         "30565",
         "Miconazole",
         "Vaginal Yeast Infection",
         "\"I&#039;ve been having chronic yeast infections, for about 5 months up until about a month or so ago; took and used (using right now), the Monistat 7. Maybe just me, but I&#039;ve had yeast infection stings, burns, etc. worse than the cream, it&#039;s honestly not THAT bad. Still extremely curious on what&#039;s in it and what it does inside of you.\"",
         "4.0",
         "November 16, 2017",
         "0"
        ],
        [
         "46",
         "213180",
         "Ticagrelor",
         "Prevention of Atherothrombotic Events",
         "\"I had a stent installed in right ventricle at 80% blockage. And then I was put on Brilinta for 1+ year. Minimal problems.  Minor bruising in last few weeks.  Minor bleeding early on. Can&#039;t tell if it&#039;s affecting breathing since I&#039;m also on other meds (statin, metoprolil, lisiniprol ... pardon spelling errors).\r\n\r\nI was a runner, now am walk/jogger...a few miles/day, few times a week.  Still experience some pressure/breathing occurrences during first few minutes, then I walk, and restart jogging. After a while (10-15 minutes, about a mile)  this tends to go away and I can jog a little longer. No way to determine if any of the meds contribute to this.  \r\n\r\nI look forward to stopping Brilinta very soon. Hope it helps the breathing/pressure  but am pessimistic\"",
         "8.0",
         "November 7, 2017",
         "1"
        ],
        [
         "47",
         "220641",
         "Loestrin 24 Fe",
         "Birth Control",
         "\"Loestrin 24 was recommended to me by my doctor. I took it for 7 months. I had no physical side effects, just a bit moody in the first week. My problem is with the program itself. I don&#039;t have a great insurance, but since they boast of a discount card, I did that for a while. I only paid 24 dollars until January when they changed their discount program and didn&#039;t inform me. Now, it&#039;s only 24 dollars off the original price (which is somewhere around 90 dollars) - or whatever your insurance will provide. This was upsetting since I was faced with being at the pharmacy counter and having to make the decision to refuse my refill because I didn&#039;t know about the policy change and couldn&#039;t afford it at the time.\"",
         "5.0",
         "March 21, 2011",
         "1"
        ],
        [
         "48",
         "145743",
         "Qsymia",
         "Weight Loss",
         "\"I started on the lower dose on 11/4/14. My starting weight was 301. 2 weeks later I went up a dose. On 12/4/14 my weight was 261 and I am still on the 7.5mg dosage. My doctor was so shocked when she saw me. She said the average person loses 1-2lbs a week and I&#039;ve managed to lose about 10lbs a week. I also told her I cut out carbs and sugars. I no longer look at food as if I have to have it. I now look at food as a necessary nutrient my body needs to live. It is the best decision I&#039;ve ever made.\"",
         "10.0",
         "December 6, 2014",
         "255"
        ],
        [
         "49",
         "18045",
         "Ethinyl estradiol / etonogestrel",
         "Birth Control",
         "\"I have now been on NuvaRing for 2 years and I like it.  I was never one to forget to take my pill but it is nice to not worry about it.  I went on NuvaRing because it was recommended by a friend and the doctor.  I have read many of the poor reviews on the NuvaRing and all the bad reviews are common side effects of birth control in general.  I have been on birth control for about 13 years and have used different types all have the same side effects; mood swings, bloating, cramping, weight gain, lack of sex drive and poor natural lubrication during sex.  I have been happy with the NuvaRing and will continue to use it.\"",
         "9.0",
         "February 8, 2012",
         "2"
        ]
       ],
       "shape": {
        "columns": 7,
        "rows": 1000
       }
      },
      "text/html": [
       "<div>\n",
       "<style scoped>\n",
       "    .dataframe tbody tr th:only-of-type {\n",
       "        vertical-align: middle;\n",
       "    }\n",
       "\n",
       "    .dataframe tbody tr th {\n",
       "        vertical-align: top;\n",
       "    }\n",
       "\n",
       "    .dataframe thead th {\n",
       "        text-align: right;\n",
       "    }\n",
       "</style>\n",
       "<table border=\"1\" class=\"dataframe\">\n",
       "  <thead>\n",
       "    <tr style=\"text-align: right;\">\n",
       "      <th></th>\n",
       "      <th>Unnamed: 0</th>\n",
       "      <th>drugName</th>\n",
       "      <th>condition</th>\n",
       "      <th>review</th>\n",
       "      <th>rating</th>\n",
       "      <th>date</th>\n",
       "      <th>usefulCount</th>\n",
       "    </tr>\n",
       "  </thead>\n",
       "  <tbody>\n",
       "    <tr>\n",
       "      <th>0</th>\n",
       "      <td>87571</td>\n",
       "      <td>Naproxen</td>\n",
       "      <td>Gout, Acute</td>\n",
       "      <td>\"like the previous person mention, I&amp;#039;m a ...</td>\n",
       "      <td>9.0</td>\n",
       "      <td>September 2, 2015</td>\n",
       "      <td>36</td>\n",
       "    </tr>\n",
       "    <tr>\n",
       "      <th>1</th>\n",
       "      <td>178045</td>\n",
       "      <td>Duloxetine</td>\n",
       "      <td>ibromyalgia</td>\n",
       "      <td>\"I have taken Cymbalta for about a year and a ...</td>\n",
       "      <td>3.0</td>\n",
       "      <td>November 7, 2011</td>\n",
       "      <td>13</td>\n",
       "    </tr>\n",
       "    <tr>\n",
       "      <th>2</th>\n",
       "      <td>80482</td>\n",
       "      <td>Mobic</td>\n",
       "      <td>Inflammatory Conditions</td>\n",
       "      <td>\"I have been taking Mobic for over a year with...</td>\n",
       "      <td>10.0</td>\n",
       "      <td>June 5, 2013</td>\n",
       "      <td>128</td>\n",
       "    </tr>\n",
       "    <tr>\n",
       "      <th>3</th>\n",
       "      <td>159268</td>\n",
       "      <td>TriNessa</td>\n",
       "      <td>Birth Control</td>\n",
       "      <td>\"I am now 21 and have been on TriNessa since I...</td>\n",
       "      <td>10.0</td>\n",
       "      <td>October 21, 2010</td>\n",
       "      <td>81</td>\n",
       "    </tr>\n",
       "    <tr>\n",
       "      <th>4</th>\n",
       "      <td>205477</td>\n",
       "      <td>Pristiq</td>\n",
       "      <td>Depression</td>\n",
       "      <td>\"I was originally on Prozac 20mg for my depres...</td>\n",
       "      <td>10.0</td>\n",
       "      <td>July 13, 2013</td>\n",
       "      <td>65</td>\n",
       "    </tr>\n",
       "    <tr>\n",
       "      <th>...</th>\n",
       "      <td>...</td>\n",
       "      <td>...</td>\n",
       "      <td>...</td>\n",
       "      <td>...</td>\n",
       "      <td>...</td>\n",
       "      <td>...</td>\n",
       "      <td>...</td>\n",
       "    </tr>\n",
       "    <tr>\n",
       "      <th>995</th>\n",
       "      <td>188381</td>\n",
       "      <td>ParaGard</td>\n",
       "      <td>Birth Control</td>\n",
       "      <td>\"Always do research before putting anything in...</td>\n",
       "      <td>1.0</td>\n",
       "      <td>May 22, 2017</td>\n",
       "      <td>9</td>\n",
       "    </tr>\n",
       "    <tr>\n",
       "      <th>996</th>\n",
       "      <td>47072</td>\n",
       "      <td>Thyroid desiccated</td>\n",
       "      <td>Hashimoto's disease</td>\n",
       "      <td>\"Been diagnosed with Hashimoto&amp;#039;s for over...</td>\n",
       "      <td>9.0</td>\n",
       "      <td>March 30, 2017</td>\n",
       "      <td>33</td>\n",
       "    </tr>\n",
       "    <tr>\n",
       "      <th>997</th>\n",
       "      <td>174171</td>\n",
       "      <td>Valium</td>\n",
       "      <td>Anxiety</td>\n",
       "      <td>\"Unlike some benzodiazepines like lorazepam, w...</td>\n",
       "      <td>10.0</td>\n",
       "      <td>June 12, 2010</td>\n",
       "      <td>122</td>\n",
       "    </tr>\n",
       "    <tr>\n",
       "      <th>998</th>\n",
       "      <td>80072</td>\n",
       "      <td>Benzonatate</td>\n",
       "      <td>Cough</td>\n",
       "      <td>\"benzonatate medicine is useless for suppressi...</td>\n",
       "      <td>2.0</td>\n",
       "      <td>February 10, 2017</td>\n",
       "      <td>16</td>\n",
       "    </tr>\n",
       "    <tr>\n",
       "      <th>999</th>\n",
       "      <td>105177</td>\n",
       "      <td>Carbamazepine</td>\n",
       "      <td>Trigeminal Neuralgia</td>\n",
       "      <td>\"My shocks lasted 1-2 seconds,50 times a day.....</td>\n",
       "      <td>4.0</td>\n",
       "      <td>November 2, 2016</td>\n",
       "      <td>19</td>\n",
       "    </tr>\n",
       "  </tbody>\n",
       "</table>\n",
       "<p>1000 rows × 7 columns</p>\n",
       "</div>"
      ],
      "text/plain": [
       "     Unnamed: 0            drugName                condition  \\\n",
       "0         87571            Naproxen              Gout, Acute   \n",
       "1        178045          Duloxetine              ibromyalgia   \n",
       "2         80482               Mobic  Inflammatory Conditions   \n",
       "3        159268            TriNessa            Birth Control   \n",
       "4        205477             Pristiq               Depression   \n",
       "..          ...                 ...                      ...   \n",
       "995      188381            ParaGard            Birth Control   \n",
       "996       47072  Thyroid desiccated      Hashimoto's disease   \n",
       "997      174171              Valium                  Anxiety   \n",
       "998       80072         Benzonatate                    Cough   \n",
       "999      105177       Carbamazepine     Trigeminal Neuralgia   \n",
       "\n",
       "                                                review  rating  \\\n",
       "0    \"like the previous person mention, I&#039;m a ...     9.0   \n",
       "1    \"I have taken Cymbalta for about a year and a ...     3.0   \n",
       "2    \"I have been taking Mobic for over a year with...    10.0   \n",
       "3    \"I am now 21 and have been on TriNessa since I...    10.0   \n",
       "4    \"I was originally on Prozac 20mg for my depres...    10.0   \n",
       "..                                                 ...     ...   \n",
       "995  \"Always do research before putting anything in...     1.0   \n",
       "996  \"Been diagnosed with Hashimoto&#039;s for over...     9.0   \n",
       "997  \"Unlike some benzodiazepines like lorazepam, w...    10.0   \n",
       "998  \"benzonatate medicine is useless for suppressi...     2.0   \n",
       "999  \"My shocks lasted 1-2 seconds,50 times a day.....     4.0   \n",
       "\n",
       "                  date  usefulCount  \n",
       "0    September 2, 2015           36  \n",
       "1     November 7, 2011           13  \n",
       "2         June 5, 2013          128  \n",
       "3     October 21, 2010           81  \n",
       "4        July 13, 2013           65  \n",
       "..                 ...          ...  \n",
       "995       May 22, 2017            9  \n",
       "996     March 30, 2017           33  \n",
       "997      June 12, 2010          122  \n",
       "998  February 10, 2017           16  \n",
       "999   November 2, 2016           19  \n",
       "\n",
       "[1000 rows x 7 columns]"
      ]
     },
     "execution_count": 3,
     "metadata": {},
     "output_type": "execute_result"
    }
   ],
   "source": [
    "drug_dataset = load_dataset(\n",
    "    \"csv\", \n",
    "    data_files={\n",
    "        \"train\": \"./Data/drugsComTrain_raw.tsv\", \n",
    "\t\t\"test\": \"./Data/drugsComTest_raw.tsv\"\n",
    "\t}, \n",
    "    delimiter=\"\\t\"\n",
    ")\n",
    "\n",
    "print(drug_dataset)\n",
    "\n",
    "drug_sample = drug_dataset[\"train\"].shuffle(seed=42).select(range(1000))\n",
    "# Visualize data with pandas\n",
    "drug_sample.to_pandas()"
   ]
  },
  {
   "cell_type": "code",
   "execution_count": 27,
   "id": "16cfb29a",
   "metadata": {},
   "outputs": [
    {
     "data": {
      "application/vnd.jupyter.widget-view+json": {
       "model_id": "ca1c36ca3f1f49e7ab1f83d3d60a4810",
       "version_major": 2,
       "version_minor": 0
      },
      "text/plain": [
       "Map:   0%|          | 0/46108 [00:00<?, ? examples/s]"
      ]
     },
     "metadata": {},
     "output_type": "display_data"
    }
   ],
   "source": [
    "drug_dataset_cpy = drug_dataset\n",
    "\n",
    "# Rename first column \"Unnamed: 0\" to \"patient_id\"\n",
    "drug_dataset_cpy = drug_dataset_cpy.rename_column(\"Unnamed: 0\", \"patient_id\")\n",
    "\n",
    "# Filter out data where condition is None\n",
    "drug_dataset_cpy = drug_dataset_cpy.filter(lambda x: x[\"condition\"] is not None)\n",
    "\n",
    "# Make \"condition\" lowercase\n",
    "drug_dataset_cpy = drug_dataset_cpy.map(\n",
    "\tlambda x: {\"condition\": [o.lower() for o in x[\"condition\"]]},\n",
    " \tbatched=True,\n",
    ")\n",
    "\n",
    "# Create new column \"review_length\"\n",
    "drug_dataset_cpy = drug_dataset_cpy.map(\n",
    "\tlambda x: {\"review_length\": [len(o.split()) for o in x[\"review\"]]},\n",
    " \tbatched=True,\n",
    ")\n",
    "\n",
    "# Only keep reviews larger than 30\n",
    "drug_dataset_cpy = drug_dataset_cpy.filter(lambda x: x[\"review_length\"] > 30)\n",
    "\n",
    "# Convert html codes in reviews to text\n",
    "drug_dataset_cpy = drug_dataset_cpy.map(\n",
    "\tlambda x: {\"review\": [html.unescape(o) for o in x[\"review\"]]},\n",
    "\tbatched=True,\n",
    ")\n",
    "\n",
    "# Tokenize data\n",
    "tokenizer = AutoTokenizer.from_pretrained(\"bert-base-cased\")\n",
    "\n",
    "def tokenize_and_split(example):\n",
    "    return tokenizer(\n",
    "\t\texample[\"review\"],\n",
    "\t\ttruncation=True,\n",
    "\t\tmax_length=128,\n",
    "\t\treturn_overflowing_tokens=True,\n",
    "\t)\n",
    "    \n",
    "# Since we return overflowing tokens, \n",
    "# there may be more tokens created than there are tokens\n",
    "# So we remove all other columns and only keep token_ids\n",
    "drug_dataset_cpy = drug_dataset_cpy.map(\n",
    "    tokenize_and_split, \n",
    "\tbatched=True, \n",
    "\tremove_columns=drug_dataset_cpy[\"train\"].column_names,\n",
    ")"
   ]
  },
  {
   "cell_type": "markdown",
   "id": "67c0bda4",
   "metadata": {},
   "source": [
    "#### Train/Val/Test Split"
   ]
  },
  {
   "cell_type": "code",
   "execution_count": 76,
   "id": "25640882",
   "metadata": {},
   "outputs": [
    {
     "data": {
      "text/plain": [
       "DatasetDict({\n",
       "    train: Dataset({\n",
       "        features: ['input_ids', 'token_type_ids', 'attention_mask', 'overflow_to_sample_mapping'],\n",
       "        num_rows: 41354\n",
       "    })\n",
       "    validation: Dataset({\n",
       "        features: ['input_ids', 'token_type_ids', 'attention_mask', 'overflow_to_sample_mapping'],\n",
       "        num_rows: 165418\n",
       "    })\n",
       "    test: Dataset({\n",
       "        features: ['input_ids', 'token_type_ids', 'attention_mask', 'overflow_to_sample_mapping'],\n",
       "        num_rows: 68876\n",
       "    })\n",
       "})"
      ]
     },
     "execution_count": 76,
     "metadata": {},
     "output_type": "execute_result"
    }
   ],
   "source": [
    "drug_dataset_clean = drug_dataset_cpy[\"train\"].train_test_split(test_size=0.8, seed=42)\n",
    "# Rename the default \"test\" split to \"validation\"\n",
    "drug_dataset_clean[\"validation\"] = drug_dataset_clean.pop(\"test\")\n",
    "# Add test to the dataset\n",
    "drug_dataset_clean[\"test\"] = drug_dataset_cpy[\"test\"]\n",
    "\n",
    "drug_dataset_clean"
   ]
  },
  {
   "cell_type": "markdown",
   "id": "082dbe9f",
   "metadata": {},
   "source": [
    "#### Save/Load Dataset"
   ]
  },
  {
   "cell_type": "code",
   "execution_count": 79,
   "id": "b9a041d6",
   "metadata": {},
   "outputs": [
    {
     "data": {
      "application/vnd.jupyter.widget-view+json": {
       "model_id": "f4183f2e1abe4a84bfc474554dbb2496",
       "version_major": 2,
       "version_minor": 0
      },
      "text/plain": [
       "Saving the dataset (0/1 shards):   0%|          | 0/41354 [00:00<?, ? examples/s]"
      ]
     },
     "metadata": {},
     "output_type": "display_data"
    },
    {
     "data": {
      "application/vnd.jupyter.widget-view+json": {
       "model_id": "789108fc073a4292a94c98850a1f1366",
       "version_major": 2,
       "version_minor": 0
      },
      "text/plain": [
       "Saving the dataset (0/1 shards):   0%|          | 0/165418 [00:00<?, ? examples/s]"
      ]
     },
     "metadata": {},
     "output_type": "display_data"
    },
    {
     "data": {
      "application/vnd.jupyter.widget-view+json": {
       "model_id": "4914bfc1a3a14f0cbf89ab4cfe84c300",
       "version_major": 2,
       "version_minor": 0
      },
      "text/plain": [
       "Saving the dataset (0/1 shards):   0%|          | 0/68876 [00:00<?, ? examples/s]"
      ]
     },
     "metadata": {},
     "output_type": "display_data"
    }
   ],
   "source": [
    "drug_dataset_clean.save_to_disk(\"./Data/drug_reviews\")\n",
    "# load_dataset(\"./Data/drug_reviews\")"
   ]
  },
  {
   "cell_type": "markdown",
   "id": "ce0ff36b",
   "metadata": {},
   "source": [
    "### Large Datasets"
   ]
  },
  {
   "cell_type": "markdown",
   "id": "60629191",
   "metadata": {},
   "source": [
    "#### Streaming"
   ]
  },
  {
   "cell_type": "code",
   "execution_count": null,
   "id": "1df7d74b",
   "metadata": {},
   "outputs": [
    {
     "data": {
      "text/plain": [
       "{'meta': {'pmid': 11409574, 'language': 'eng'},\n",
       " 'text': 'Epidemiology of hypoxaemia in children with acute lower respiratory infection.\\nTo determine the prevalence of hypoxaemia in children aged under 5 years suffering acute lower respiratory infections (ALRI), the risk factors for hypoxaemia in children under 5 years of age with ALRI, and the association of hypoxaemia with an increased risk of dying in children of the same age. Systematic review of the published literature. Out-patient clinics, emergency departments and hospitalisation wards in 23 health centres from 10 countries. Cohort studies reporting the frequency of hypoxaemia in children under 5 years of age with ALRI, and the association between hypoxaemia and the risk of dying. Prevalence of hypoxaemia measured in children with ARI and relative risks for the association between the severity of illness and the frequency of hypoxaemia, and between hypoxaemia and the risk of dying. Seventeen published studies were found that included 4,021 children under 5 with acute respiratory infections (ARI) and reported the prevalence of hypoxaemia. Out-patient children and those with a clinical diagnosis of upper ARI had a low risk of hypoxaemia (pooled estimate of 6% to 9%). The prevalence increased to 31% and to 43% in patients in emergency departments and in cases with clinical pneumonia, respectively, and it was even higher among hospitalised children (47%) and in those with radiographically confirmed pneumonia (72%). The cumulated data also suggest that hypoxaemia is more frequent in children living at high altitude. Three papers reported an association between hypoxaemia and death, with relative risks varying between 1.4 and 4.6. Papers describing predictors of hypoxaemia have focused on clinical signs for detecting hypoxaemia rather than on identifying risk factors for developing this complication. Hypoxaemia is a common and potentially lethal complication of ALRI in children under 5, particularly among those with severe disease and those living at high altitude. Given the observed high prevalence of hypoxaemia and its likely association with increased mortality, efforts should be made to improve the detection of hypoxaemia and to provide oxygen earlier to more children with severe ALRI.'}"
      ]
     },
     "execution_count": 88,
     "metadata": {},
     "output_type": "execute_result"
    }
   ],
   "source": [
    "data_files = \"https://huggingface.co/datasets/casinca/PUBMED_title_abstracts_2019_baseline/resolve/main/PUBMED_title_abstracts_2019_baseline.jsonl.zst\"\n",
    "pubmed_dataset = load_dataset(\n",
    "\t\"json\",\n",
    "\tdata_files=data_files,\n",
    "\tsplit=\"train\",\n",
    "\tstreaming=True # Avoid downloading the entire dataset\n",
    ")\n",
    "\n",
    "# Streamed datasets are iterable objects\n",
    "next(iter(pubmed_dataset))"
   ]
  },
  {
   "cell_type": "code",
   "execution_count": null,
   "id": "4eea3a7f",
   "metadata": {},
   "outputs": [],
   "source": [
    "tokenizer = AutoTokenizer.from_pretrained(\"distilbert-base-uncased\")\n",
    "\n",
    "# Since dataset is streamed, map will be run on the fly\n",
    "tokenized_dataset = pubmed_dataset.map(lambda x: tokenizer(x[\"text\"]))\n",
    "\n",
    "shuffled_dataset = pubmed_dataset.shuffle(buffer_size=10_000, seed=42)"
   ]
  },
  {
   "cell_type": "code",
   "execution_count": 102,
   "id": "9de2d23d",
   "metadata": {},
   "outputs": [],
   "source": [
    "# Create train / validation splits\n",
    "train_dataset = pubmed_dataset.skip(1000) # Skip first 1000 and take the rest\n",
    "validation_dataset = pubmed_dataset.take(1000)"
   ]
  },
  {
   "cell_type": "markdown",
   "id": "6866a6c9",
   "metadata": {},
   "source": [
    "#### Combine datasets"
   ]
  },
  {
   "cell_type": "code",
   "execution_count": 105,
   "id": "e9047696",
   "metadata": {},
   "outputs": [
    {
     "data": {
      "application/vnd.jupyter.widget-view+json": {
       "model_id": "30b8ce3b516c4652a4f1d7bce02b23b0",
       "version_major": 2,
       "version_minor": 0
      },
      "text/plain": [
       "README.md: 0.00B [00:00, ?B/s]"
      ]
     },
     "metadata": {},
     "output_type": "display_data"
    },
    {
     "name": "stderr",
     "output_type": "stream",
     "text": [
      "c:\\Users\\tshar\\AppData\\Local\\Programs\\Python\\Python311\\Lib\\site-packages\\huggingface_hub\\file_download.py:143: UserWarning: `huggingface_hub` cache-system uses symlinks by default to efficiently store duplicated files but your machine does not support them in C:\\Users\\tshar\\.cache\\huggingface\\hub\\datasets--timaeus--pile-freelaw. Caching files will still work but in a degraded version that might require more space on your disk. This warning can be disabled by setting the `HF_HUB_DISABLE_SYMLINKS_WARNING` environment variable. For more details, see https://huggingface.co/docs/huggingface_hub/how-to-cache#limitations.\n",
      "To support symlinks on Windows, you either need to activate Developer Mode or to run Python as an administrator. In order to activate developer mode, see this article: https://docs.microsoft.com/en-us/windows/apps/get-started/enable-your-device-for-development\n",
      "  warnings.warn(message)\n"
     ]
    },
    {
     "data": {
      "text/plain": [
       "{'text': '     The summaries of the Colorado Court of Appeals published opinions\\n  constitute no part of the opinion of the division but have been prepared by\\n  the division for the convenience of the reader. The summaries may not be\\n    cited or relied upon as they are not the official language of the division.\\n  Any discrepancy between the language in the summary and in the opinion\\n           should be resolved in favor of the language in the opinion.\\n\\n\\n                                                                  SUMMARY\\n                                                            February 8, 2018\\n\\n                                2018COA12\\n\\nNo. 14CA0144, People v. Trujillo — Criminal Law — Sentencing\\n— Probation — Indeterminate Sentence\\n\\n     A division of the court of appeals considers whether a\\n\\nColorado statute authorizes imposition of a sentence to an\\n\\nindeterminate term of probation and whether the defendant was\\n\\nentitled to the benefit of amendments to the statute criminalizing\\n\\ntheft. Relying on People v. Jenkins, 2013 COA 76, 305 P.3d 420,\\n\\nthe division concludes that section 18-1.3-202(1), C.R.S. 2017,\\n\\nprovides statutory authority for the imposition of an indeterminate\\n\\nprobation sentence. Following People v. Stellabotte, 2016 COA 106,\\n\\n___ P.3d ___ (cert. granted Feb. 6, 2017), the majority further\\n\\nconcludes that the defendant is entitled to the benefit of\\n\\namendments to the theft statute. The partial dissent concludes\\n\\x0cthat the amendments to the theft statute do not apply retroactively,\\n\\nand would therefore affirm the sentence in full.\\n\\n     Additionally, the division rejects the defendant’s contentions\\n\\nthat reversal is required due to the trial court’s rejection of\\n\\ndefense-tendered jury instructions, wrongfully admitted character\\n\\nevidence, and prosecutorial misconduct. However, the division\\n\\nremands for the trial court to make findings of fact concerning the\\n\\nassessment of the costs of prosecution.\\n\\n     Accordingly, the division affirms the conviction, affirms the\\n\\nsentence in part, vacates the sentence in part, and remands the\\n\\ncase with directions.\\n\\x0cCOLORADO COURT OF APPEALS                                          2018COA12\\n\\n\\nCourt of Appeals No. 14CA0144\\nMesa County District Court No. 11CR447\\nHonorable Valerie J. Robison, Judge\\n\\n\\nThe People of the State of Colorado,\\n\\nPlaintiff-Appellee,\\n\\nv.\\n\\nMichael Floyd Trujillo,\\n\\nDefendant-Appellant.\\n\\n\\n         JUDGMENT AFFIRMED, SENTENCE AFFIRMED IN PART AND\\n        VACATED IN PART, AND CASE REMANDED WITH DIRECTIONS\\n\\n                                  Division I\\n                        Opinion by JUDGE TAUBMAN\\n                             Richman, J., concurs\\n                Furman, J., concurs in part and dissents in part\\n\\n                          Announced February 8, 2018\\n\\n\\nCynthia H. Coffman, Attorney General, Joseph G. Michaels, Assistant Attorney\\nGeneral, Denver, Colorado, for Plaintiff-Appellee\\n\\nDouglas K. Wilson, Colorado State Public Defender, James S. Hardy, Deputy\\nState Public Defender, Denver, Colorado, for Defendant-Appellant\\n\\x0c¶1    Defendant, Michael Floyd Trujillo, appeals his judgment of\\n\\n conviction entered on a jury verdict finding him guilty of one count\\n\\n of theft of more than $20,000 and one count of criminal mischief of\\n\\n $20,000 or more. He also appeals his sentence. We perceive no\\n\\n basis for reversing his convictions, but remand for the trial court to\\n\\n make findings of fact regarding the assessment of the costs of\\n\\n prosecution and to reclassify his theft conviction as a class 4 felony.\\n\\n                            I. Background\\n\\n¶2    In 2007, Trujillo began building a home, doing much of the\\n\\n labor himself and initially using his own money to fund the project.\\n\\n He later took out a construction loan from the victim, a bank, for\\n\\n just under $255,000. After construction was completed on the\\n\\n house, Trujillo stopped making his monthly loan payments. The\\n\\n bank declined to restructure the loan and initiated foreclosure\\n\\n proceedings in September 2010.\\n\\n¶3    Before the foreclosure sale, Trujillo removed or destroyed\\n\\n property in the house, including kitchen cabinets, countertops,\\n\\n interior and exterior doors, doorjambs and casings, flooring,\\n\\n baseboards, light fixtures, bathroom fixtures, the fireplace,\\n\\n handrails, the boiler, the air conditioner, and the garage door.\\n\\n\\n                                    1\\n\\x0c Because of this damage, the house was appraised at $150,000;\\n\\n however, the appraiser estimated that if the house were in good\\n\\n repair, it would have been worth $320,000.\\n\\n¶4    Trujillo was charged with defrauding a secured creditor, theft\\n\\n of $20,000 or more, but less than $100,000, and criminal mischief\\n\\n of $20,000 or more, but less than $100,000. The jury found him\\n\\n not guilty of defrauding a secured creditor and guilty of theft and\\n\\n criminal mischief.\\n\\n¶5    On appeal, Trujillo raises six contentions: (1) the trial court\\n\\n erred in rejecting defense-tendered jury instructions; (2) the trial\\n\\n court erred in allowing evidence of a prior foreclosure against\\n\\n Trujillo; (3) prosecutorial misconduct during direct examination of a\\n\\n witness and closing rebuttal argument warrants reversal; (4) the\\n\\n trial court imposed an illegal sentence of indeterminate probation;\\n\\n (5) the trial court erred in awarding the People costs of prosecution;\\n\\n and (6) an amendment to the theft statute applies to his conviction.\\n\\n We perceive no basis for reversal with respect to the first four\\n\\n contentions, but agree with Trujillo’s final two contentions. We\\n\\n therefore affirm the convictions and the sentence in part but vacate\\n\\n the sentence in part and remand with directions.\\n\\n\\n                                    2\\n\\x0c                          II. Jury Instructions\\n\\n¶6    Trujillo asserts that the trial court erred in rejecting various\\n\\n jury instructions regarding his theory of the case. We disagree.\\n\\n                           A. Additional Facts\\n\\n¶7    Throughout trial, the defense’s theory of the case was that\\n\\n Trujillo lacked the requisite intent to commit the charged offenses\\n\\n because he believed that the property he removed from the house\\n\\n belonged to him. The defense tendered five jury instructions related\\n\\n to this theory of the case.\\n\\n¶8    Trujillo’s tendered jury instructions detailed property law\\n\\n concepts. For example, the first tendered instruction stated that\\n\\n “the person who has title to real property is still the owner of the\\n\\n property even if there is a lien or secured interest on the property.”\\n\\n Another tendered instruction defined “title,” “deed of trust,” and\\n\\n “holder of a certificate of purchase[].” One instruction described the\\n\\n lien theory detailed in section 38-35-117, C.R.S. 2017, and another\\n\\n instructed that title to property “does not vest with the purchaser\\n\\n until eight days after [a] foreclosure sale.”\\n\\n¶9    The trial court declined to give these instructions as tendered.\\n\\n However, portions of the defense-tendered instructions were\\n\\n\\n                                     3\\n\\x0c  included in a final definitional jury instruction. The final\\n\\n  instructions defined “deed of trust” and stated that the title to\\n\\n  property is transferred to the holder of the certificate of purchase\\n\\n  eight days after a foreclosure sale. Though it rejected other\\n\\n  portions of the defense-tendered instructions, the trial court\\n\\n  permitted defense counsel to argue the issues raised in the\\n\\n  instructions during closing argument.\\n\\n¶ 10   The defense also tendered an instruction which the trial court\\n\\n  modified and gave as a theory of the case instruction. That\\n\\n  instruction stated, “Trujillo contends that the items removed from\\n\\n  the home . . . were his; purchased by him and installed by him. . . .\\n\\n  Trujillo conten[d]s that the items that he took and damaged were\\n\\n  his sole property.”\\n\\n                         B. Standard of Review\\n\\n¶ 11   We review jury instructions de novo to determine whether, as\\n\\n  a whole, they accurately informed the jury of the governing law.\\n\\n  Riley v. People, 266 P.3d 1089, 1092-93 (Colo. 2011). If the jury\\n\\n  instructions properly inform the jury of the law, the district court\\n\\n  has “broad discretion to determine the form and style of jury\\n\\n  instructions.” Day v. Johnson, 255 P.3d 1064, 1067 (Colo. 2011).\\n\\n\\n                                     4\\n\\x0c  Accordingly, we review a trial court’s decision concerning a\\n\\n  proposed jury instruction for an abuse of discretion and will not\\n\\n  disturb the ruling unless it is manifestly arbitrary, unreasonable, or\\n\\n  unfair. Id.\\n\\n¶ 12   When a defendant objects to the trial court’s ruling on a jury\\n\\n  instruction, we review for nonconstitutional harmless error and will\\n\\n  thus affirm if “there is not a reasonable probability that the error\\n\\n  contributed to the defendant’s conviction.” People v. Garcia, 28\\n\\n  P.3d 340, 344 (Colo. 2001) (quoting Salcedo v. People, 999 P.2d\\n\\n  833, 841 (Colo. 2000)).\\n\\n                            C. Applicable Law\\n\\n¶ 13   “[A]n instruction embodying a defendant’s theory of the case\\n\\n  must be given by the trial court if the record contains any evidence\\n\\n  to support the theory.” People v. Nunez, 841 P.2d 261, 264 (Colo.\\n\\n  1992). Moreover, a trial court has “an affirmative obligation” to\\n\\n  work with counsel to correct a tendered theory of the case\\n\\n  instruction “or to incorporate the substance of such in an\\n\\n  instruction drafted by the court.” Id. at 265; see also People v.\\n\\n  Tippett, 733 P.2d 1183, 1195 (Colo. 1987) (a trial court may refuse\\n\\n  to give an instruction already embodied in other instructions).\\n\\n\\n                                     5\\n\\x0c¶ 14   In considering whether a jury was adequately informed of a\\n\\n  defendant’s theory of the case, a reviewing court can take into\\n\\n  account whether defense counsel’s closing argument “fairly\\n\\n  represented” the theory to the jury. People v. Dore, 997 P.2d 1214,\\n\\n  1222 (Colo. App. 1999).\\n\\n                               D. Analysis\\n\\n¶ 15   Trujillo contends that the trial court abused its discretion in\\n\\n  rejecting the tendered instructions. We disagree.\\n\\n¶ 16   Trujillo asserts that the tendered instructions were essential\\n\\n  because they communicated his theory of the case. However, the\\n\\n  trial court instructed the jury on his theory of the case in an\\n\\n  instruction that clearly stated that he believed the property he took\\n\\n  from the house was “his sole property.” To the extent that the trial\\n\\n  court had a duty to work with the defense in crafting a proper\\n\\n  theory of defense instruction, we conclude that the trial court\\n\\n  fulfilled that duty here by giving an alternative theory of the case\\n\\n  instruction that encompassed Trujillo’s tendered instructions. See\\n\\n  Nunez, 841 P.2d at 265 n.9. Moreover, the trial court specifically\\n\\n  stated that defense counsel would be allowed to incorporate the\\n\\n\\n\\n\\n                                     6\\n\\x0c  property law concepts into her closing argument, which defense\\n\\n  counsel did.\\n\\n¶ 17   Trujillo asserts that the instructions he tendered were\\n\\n  accurate statements of property law. In contrast, the People argue\\n\\n  that the instructions misstated the law as it applies in criminal\\n\\n  prosecutions for theft and criminal mischief. Because we conclude\\n\\n  that the trial court did not abuse its discretion in drafting a theory\\n\\n  of defense instruction that encompassed the defense’s tendered\\n\\n  instructions, we do not address whether the rejected instructions\\n\\n  were accurate statements of the law.\\n\\n¶ 18   The jury instructions, as a whole, “fairly and adequately\\n\\n  cover[ed] the issues presented.” People v. Pahl, 169 P.3d 169, 183\\n\\n  (Colo. App. 2006). Thus, we conclude that the trial court did not\\n\\n  abuse its discretion in rejecting in part the defense-tendered jury\\n\\n  instructions.\\n\\n                    III. Evidence of Prior Foreclosure\\n\\n¶ 19   Trujillo next asserts that the trial court erred in allowing the\\n\\n  People to introduce evidence that another property of his had been\\n\\n  foreclosed. We disagree.\\n\\n\\n\\n\\n                                     7\\n\\x0c                           A. Additional Facts\\n\\n¶ 20   Before trial, Trujillo filed a motion to exclude evidence of other\\n\\n  acts or res gestae evidence. Trujillo’s motion addressed several\\n\\n  categories of other acts evidence, including evidence related to any\\n\\n  “financial and/or legal problems” unrelated to the charged offenses.\\n\\n  During a motions hearing, the People stated that they did not\\n\\n  intend to introduce any other acts or res gestae evidence. In a\\n\\n  written ruling, the trial court granted Trujillo’s motion to exclude\\n\\n  evidence of his unrelated financial and legal problems “unless the\\n\\n  prosecution fe[lt] that the ‘door ha[d] been opened.’” The trial court\\n\\n  further ordered that, if the People felt Trujillo introduced evidence of\\n\\n  his other financial and legal problems, the People could request a\\n\\n  bench conference during trial.\\n\\n¶ 21   On the first day of trial, defense counsel stated that she was\\n\\n  withdrawing her motion to exclude other acts evidence insofar as it\\n\\n  pertained to evidence of Trujillo’s bankruptcy proceedings. During\\n\\n  her opening statement, defense counsel then mentioned those\\n\\n  proceedings.\\n\\n¶ 22   Later, the People called the bank’s former vice president as an\\n\\n  expert witness. During direct examination, the prosecutor asked\\n\\n\\n                                     8\\n\\x0c  the witness why the bank had declined to restructure Trujillo’s\\n\\n  loan. The prosecutor also asked about Trujillo’s demeanor during\\n\\n  interactions with the bank. Trujillo objected. After a bench\\n\\n  conference, the trial court allowed the witness to testify on both\\n\\n  matters.\\n\\n¶ 23   Specifically, the witness testified that, during a conversation\\n\\n  about restructuring the loan, Trujillo “seemed like he was very\\n\\n  upset.” The witness recalled, “He got into [that] he had a piece of\\n\\n  property that [another bank] had foreclosed on and it sounded like\\n\\n  they had sold it for what [Trujillo] believed was a lot less, leaving\\n\\n  him a large deficiency balance.”\\n\\n¶ 24   During closing argument, the People alluded to the witness’s\\n\\n  testimony and referred several times to Trujillo’s general animosity\\n\\n  against banks.\\n\\n                          B. Standard of Review\\n\\n¶ 25   We review a trial court’s decision to admit other acts or res\\n\\n  gestae evidence for an abuse of discretion. People v. Jimenez, 217\\n\\n  P.3d 841, 846 (Colo. App. 2008). A court abuses its discretion if its\\n\\n  decision to admit such evidence is manifestly arbitrary,\\n\\n  unreasonable, or unfair. Id.\\n\\n\\n                                      9\\n\\x0c¶ 26   We review a preserved claim of nonconstitutional error for\\n\\n  harmless error, reversing only if any error “substantially influenced\\n\\n  the verdict or affected the fairness of the trial proceedings.” Hagos\\n\\n  v. People, 2012 CO 63, ¶ 12, 288 P.3d 116, 119 (quoting Tevlin v.\\n\\n  People, 715 P.2d 338, 342 (Colo. 1986)).\\n\\n                           C. Applicable Law\\n\\n¶ 27   Evidence is relevant if it has “any tendency to make the\\n\\n  existence of any fact that is of consequence to the determination of\\n\\n  the action more probable or less probable than it would be without\\n\\n  the evidence.” CRE 401. Generally speaking, “[t]he Colorado Rules\\n\\n  of Evidence strongly favor the admission of relevant evidence.”\\n\\n  People v. Brown, 2014 COA 155M-2, ¶ 22, 360 P.3d 167, 172.\\n\\n  However, relevant evidence is nevertheless inadmissible when “its\\n\\n  probative value is substantially outweighed by the danger of unfair\\n\\n  prejudice, confusion of the issues, or misleading the jury.” CRE\\n\\n  403. Similarly, evidence of “other crimes, wrongs, or acts” is\\n\\n  inadmissible to prove a person’s character “in order to show that he\\n\\n  acted in conformity therewith,” though it may be admissible for\\n\\n  other purposes, including proving intent. CRE 404(b).\\n\\n\\n\\n\\n                                    10\\n\\x0c¶ 28   “Res gestae is a theory of relevance which recognizes that\\n\\n  certain evidence is relevant because of its unique relationship to the\\n\\n  charged crime.” People v. Greenlee, 200 P.3d 363, 368 (Colo. 2009).\\n\\n  However, “there is no need to consider an alternative theory of\\n\\n  relevance, such as res gestae, where the evidence is admissible\\n\\n  under general rules of relevancy.” Id.\\n\\n                               D. Analysis\\n\\n¶ 29   Trujillo contends that the evidence of the prior foreclosure\\n\\n  action portrayed him as a “serial defaulter” and was impermissible\\n\\n  under CRE 404(b) and 403. The People assert that the evidence\\n\\n  was admissible as “directly relevant” to Trujillo’s intent and motive.\\n\\n  In the alternative, the People argue that the evidence was res gestae\\n\\n  evidence. We agree with the People’s first argument that the\\n\\n  evidence was admissible under CRE 401, and was not barred by\\n\\n  CRE 403.1\\n\\n\\n\\n  1 During the bench conference, the trial court allowed the bank’s\\n  former vice president to testify after conducting an abbreviated CRE\\n  404(b) analysis that did not specifically address the four-factor test\\n  set forth in People v. Spoto, 795 P.2d 1314, 1318 (Colo. 1990). The\\n  trial court did not admit the evidence under the res gestae doctrine.\\n  However, we can affirm a trial court’s evidentiary ruling on any\\n  ground supported by the record, “even if that ground was not\\n\\n                                    11\\n\\x0c¶ 30   The evidence of the prior foreclosure was probative of the\\n\\n  interactions between Trujillo and the bank — it made it more\\n\\n  probable that Trujillo had the requisite intent to commit theft. It\\n\\n  was therefore relevant under CRE 401. Further, the risk of unfair\\n\\n  prejudice did not substantially outweigh the probative value of the\\n\\n  evidence, especially where the prior foreclosure was referenced only\\n\\n  in passing and the details of that foreclosure were not revealed.\\n\\n  Thus, the evidence was not barred by CRE 403.\\n\\n¶ 31   Because we conclude that the evidence of the prior foreclosure\\n\\n  was relevant under CRE 401 and admissible under CRE 403, we\\n\\n  need not address whether the evidence was res gestae evidence or\\n\\n  “other acts” evidence under CRE 404(b). See Greenlee, 200 P.3d at\\n\\n  368-69. Accordingly, we conclude that the trial court did not err in\\n\\n  allowing the testimony concerning the prior foreclosure action.\\n\\n                      IV. Prosecutorial Misconduct\\n\\n¶ 32   Trujillo argues that the prosecutor improperly commented on\\n\\n  the district attorney’s screening process for bringing charges and\\n\\n\\n\\n\\n  articulated or considered by the trial court.” People v. Phillips, 2012\\n  COA 176, ¶ 63, 315 P.3d 136, 153.\\n\\n                                    12\\n\\x0c  Trujillo’s right not to testify, and improperly denigrated defense\\n\\n  counsel. We perceive no basis for reversal.\\n\\n                           A. Additional Facts\\n\\n¶ 33   During redirect examination of one of the People’s expert\\n\\n  witnesses, an attorney who worked at the bank, the prosecutor\\n\\n  asked whether the bank played a role in charging Trujillo. The\\n\\n  prosecutor asked if the witness himself made the decision to file a\\n\\n  criminal case, to which the witness replied, “No.” The prosecutor\\n\\n  then asked, “[W]ho is it, according to your understanding, that\\n\\n  makes those decisions on whether a case gets filed criminally?” The\\n\\n  witness responded, “A complaint’s made to a police department or\\n\\n  sheriff’s department and they make that decision in conjunction\\n\\n  with I believe you.” The prosecutor clarified that “you” meant the\\n\\n  district attorney’s office. The defense did not object.\\n\\n¶ 34   During rebuttal closing argument, the prosecutor said,\\n\\n             Did you hear all that? [Defense counsel]’s\\n             talking about all of this stuff, about what\\n             Trujillo’s intent was. And then did you hear\\n             her towards the end what she did? She says,\\n             and correct – this part was correct of what she\\n             said. My job is to prove intent, right. That is\\n             my burden. And she’s absolutely right. The\\n             Defendant has every right to remain silent,\\n\\n\\n\\n                                    13\\n\\x0c            and he exercised that right and that is\\n            something that you cannot use against him.\\n\\n            But it is completely ridiculous for [defense\\n            counsel] to get up here and say that [Trujillo]\\n            didn’t testify to what his intent was and then\\n            to go on and talk about what his intent\\n            actually was. We don’t know what his intent\\n            was because he never testified to that, which\\n            he has every right to do. But did you hear\\n            her? She’s up here saying his intent was this.\\n\\n¶ 35   Trujillo objected on the basis that the prosecutor was\\n\\n  denigrating defense counsel. The trial court sustained the objection\\n\\n  as to the prosecutor’s tone, but overruled it as to content. The\\n\\n  prosecutor then argued, “[I]f you go out and run somebody over and\\n\\n  – and think that you had the right to do that, is that gonna be a\\n\\n  legitimate defense by saying, well, I thought I could do that. I didn’t\\n\\n  – nobody ever told me. Nobody put it in writing. When I bought my\\n\\n  car, in the instruction manual, nothing said that about that. That’s\\n\\n  preposterous.” Trujillo did not renew his objection.\\n\\n                         B. Standard of Review\\n\\n¶ 36   In reviewing alleged prosecutorial misconduct, an appellate\\n\\n  court engages in a two-step analysis. First, we determine whether\\n\\n  the prosecutor’s conduct was improper based on the totality of the\\n\\n  circumstances. Wend v. People, 235 P.3d 1089, 1096 (Colo. 2010).\\n\\n\\n                                    14\\n\\x0c  Second, we determine whether any misconduct warrants reversal\\n\\n  under the proper standard of review. Id.\\n\\n¶ 37   When the alleged misconduct is objected to at trial and is of\\n\\n  constitutional magnitude, we review for constitutional harmless\\n\\n  error. Id. When the alleged misconduct is not of a constitutional\\n\\n  magnitude, and when the defense objected at trial, we subject the\\n\\n  prosecutorial misconduct to harmless error review. Id. at 1097.\\n\\n  Such prosecutorial misconduct will be considered harmless\\n\\n  “whenever there is no reasonable probability that it contributed to\\n\\n  the defendant’s conviction.” Crider v. People, 186 P.3d 39, 42 (Colo.\\n\\n  2008). When the defense did not object to the misconduct, we\\n\\n  review for plain error. Wend, 235 P.3d at 1097-98.\\n\\n                           C. Applicable Law\\n\\n¶ 38   A prosecutor cannot comment on a “screening process” for\\n\\n  charging cases “because it both hints that additional evidence\\n\\n  supporting guilt exists and reveals the personal opinion of the\\n\\n  prosecutor.” Domingo-Gomez v. People, 125 P.3d 1043, 1052 (Colo.\\n\\n  2005). It is also improper for a prosecutor to make remarks “for the\\n\\n  obvious purpose of denigrating defense counsel.” People v. Jones,\\n\\n  832 P.2d 1036, 1038 (Colo. App. 1991). It is similarly improper for\\n\\n\\n                                   15\\n\\x0c  a prosecutor to comment on a defendant’s decision not to testify.\\n\\n  Griffin v. California, 380 U.S. 609, 614 (1965); see also People v.\\n\\n  Martinez, 652 P.2d 174, 177 (Colo. App. 1981) (noting that a\\n\\n  prosecutor’s comment on a defendant’s silence constitutes\\n\\n  reversible error when “the prosecution argued that such silence\\n\\n  constituted an implied admission of guilt”).\\n\\n¶ 39   Nevertheless, “[a] prosecutor is allowed considerable latitude\\n\\n  in responding to the argument made by opposing counsel.” People\\n\\n  v. Ramirez, 997 P.2d 1200, 1211 (Colo. App. 1999), aff’d, 43 P.3d\\n\\n  611 (Colo. 2001). Further, “[a]lthough it is improper for a\\n\\n  prosecutor to assert that opposing counsel knows that the\\n\\n  accused’s case is not meritorious,” the prosecutor may permissibly\\n\\n  argue “that the evidence in support of defendant’s innocence lacked\\n\\n  substance.” Id. at 1211; see also People v. Samson, 2012 COA 167,\\n\\n  ¶ 31, 302 P.3d 311, 317 (stating that a prosecutor may permissibly\\n\\n  “comment on the absence of evidence to support a defendant’s\\n\\n  contentions”).\\n\\n¶ 40   Appellate courts consider several factors in determining\\n\\n  whether prosecutorial misconduct was prejudicial, including the\\n\\n  nature of the error, the pervasiveness of the misconduct, the\\n\\n\\n                                    16\\n\\x0c  context, and the overall strength of the evidence supporting the\\n\\n  conviction. People v. McBride, 228 P.3d 216, 225 (Colo. App. 2009);\\n\\n  see also Crider, 186 P.3d at 43. For example, a reviewing court may\\n\\n  consider whether proper jury instructions mitigated the prejudicial\\n\\n  effect of prosecutorial misconduct. See People v. Castillo, 2014 COA\\n\\n  140M, ¶ 78, ___ P.3d ___, ___ (concluding prosecutor’s\\n\\n  misstatements were harmless in light of instructions from the trial\\n\\n  court and the defense’s closing argument) (cert. granted in part Nov.\\n\\n  23, 2015).\\n\\n                               D. Analysis\\n\\n¶ 41   Trujillo contends that three instances of prosecutorial\\n\\n  misconduct require reversal. We disagree.\\n\\n¶ 42   Trujillo first contends that the prosecutor improperly referred\\n\\n  to a screening process while examining the expert witness. We\\n\\n  perceive no prosecutorial misconduct. The prosecutor here did not\\n\\n  imply that he had engaged in a screening process to “weed out the\\n\\n  weaker cases and, implicitly, that the State d[id] not consider this a\\n\\n  weak case.” Domingo-Gomez, 125 P.3d at 1052 (concluding the\\n\\n  prosecutor’s comment that “it takes a lot more than somebody\\n\\n  saying that person did it” to bring charges was improper). Rather,\\n\\n\\n                                    17\\n\\x0c  the prosecutor clarified that the bank did not bring criminal\\n\\n  charges and that the witness himself did not stand to gain as a\\n\\n  result of Trujillo’s conviction. The People assert, and we agree, that\\n\\n  the prosecutor’s question merely elicited testimony to establish that\\n\\n  the district attorney’s office was responsible for pursuing the\\n\\n  criminal charges against Trujillo.\\n\\n¶ 43   Second, Trujillo asserts that the prosecutor impermissibly\\n\\n  commented on his decision not to testify. We disagree. Even if we\\n\\n  assume the comment on Trujillo’s decision not to testify was\\n\\n  improper, not every comment on a defendant’s choice not to testify\\n\\n  requires reversal. See Martinez, 652 P.2d at 177. “The determining\\n\\n  factor is whether the defendant’s silence was used by the\\n\\n  prosecution as a means of creating an inference of guilt,” id., and\\n\\n  we conclude that the prosecutor’s comments here did not raise\\n\\n  such an inference.\\n\\n¶ 44   Finally, Trujillo contends that the prosecutor impermissibly\\n\\n  denigrated defense counsel and the defense’s theory of the case\\n\\n  during rebuttal closing argument. We agree that the prosecutor\\n\\n  improperly denigrated defense counsel and the defense’s theory of\\n\\n\\n\\n\\n                                       18\\n\\x0c  the case when he characterized her arguments as “completely\\n\\n  ridiculous” and “preposterous.”\\n\\n¶ 45   However, we perceive no basis for reversal as a result of these\\n\\n  improper remarks. The comments were limited to the People’s\\n\\n  rebuttal closing argument. Moreover, significant evidence\\n\\n  corroborated the jury’s finding of guilt — specifically, the\\n\\n  undisputed evidence that Trujillo had removed an extensive amount\\n\\n  of property from the house. Viewing the record as a whole, we\\n\\n  cannot say that there was a “reasonable probability” that the\\n\\n  prosecutor’s remarks denigrating defense counsel contributed to\\n\\n  Trujillo’s convictions. See Crider, 186 P.3d at 42. Thus, we\\n\\n  determine the error was harmless.\\n\\n¶ 46   In sum, though we agree that the prosecutor improperly\\n\\n  denigrated defense counsel, we perceive no basis for reversal.\\n\\n                       V. Indeterminate Probation\\n\\n¶ 47   Trujillo contends that the trial court did not have the statutory\\n\\n  authority to sentence him to indeterminate probation. We disagree.\\n\\n                           A. Additional Facts\\n\\n¶ 48   During the sentencing hearing, the People requested that\\n\\n  Trujillo be placed on a “long period of probation . . . somewhere in\\n\\n\\n                                    19\\n\\x0c  the neighborhood of eight to ten years” because they anticipated\\n\\n  that Trujillo would be ordered to pay substantial restitution.2\\n\\n  Trujillo requested unsupervised probation with a collections\\n\\n  investigator monitoring his restitution payments.\\n\\n¶ 49   The trial court imposed an “indefinite probation sentence”\\n\\n  because of the substantial restitution that Trujillo was expected to\\n\\n  owe. In imposing an indeterminate probation sentence, the trial\\n\\n  court stated, “There is case law that talks about whether\\n\\n  [indeterminate probation] is something that can or should be\\n\\n  imposed and it’s certainly something that is allowed regardless of\\n\\n  the type of conviction that has been entered.”\\n\\n¶ 50   The mittimus states that the sentence imposed was a term of\\n\\n  probation for seven years to life.\\n\\n                          B. Standard of Review\\n\\n¶ 51   The People contend that we should not consider this claim\\n\\n  because a sentence to probation is not ordinarily subject to\\n\\n\\n\\n  2 The trial court ultimately ordered Trujillo to pay $171,421.97 in\\n  restitution. Trujillo separately appealed that order, and a division\\n  of this court affirmed in part, reversed in part, and remanded for\\n  reconsideration. People v. Trujillo, (Colo. App. No. 14CA2486, Oct.\\n  5, 2017) (not published pursuant to C.A.R. 35(e)).\\n\\n                                       20\\n\\x0c  appellate review. However, “where, as here, a defendant contends\\n\\n  that ‘a court has exceeded its statutory authority’ in imposing a\\n\\n  probationary sentence, appellate review is warranted.” People v.\\n\\n  Jenkins, 2013 COA 76, ¶ 10, 305 P.3d 420, 423 (quoting People v.\\n\\n  Rossman, 140 P.3d 172, 174 (Colo. App. 2006)).\\n\\n¶ 52   “We review sentencing decisions that are within the statutory\\n\\n  range for an abuse of discretion.” People v. Torrez, 2013 COA 37,\\n\\n  ¶ 71, 316 P.3d 25, 37. However, where the defendant contends that\\n\\n  a court exceeded its statutory sentencing authority, our inquiry\\n\\n  involves statutory interpretation. Jenkins, ¶ 12, 305 P.3d at 423.\\n\\n  We review such issues of statutory interpretation de novo. Id.\\n\\n                           C. Applicable Law\\n\\n¶ 53   Under section 18-1.3-202(1)(a), C.R.S. 2017, a trial court “may\\n\\n  grant the defendant probation for such period and upon such terms\\n\\n  and conditions as it deems best.” Further, “[t]he length of probation\\n\\n  shall be subject to the discretion of the court and may exceed the\\n\\n  maximum period of incarceration authorized for the classification of\\n\\n  the offense of which the defendant is convicted.” Id.\\n\\n¶ 54   In Jenkins, a division of this court concluded that section 18-\\n\\n  1.3-202(1) “authorizes a trial court to impose an indeterminate term\\n\\n\\n                                   21\\n\\x0c  of probation.” Jenkins, ¶ 38, 305 P.3d at 426. The Jenkins division\\n\\n  bolstered its conclusion by looking to the plain language of the\\n\\n  statute — which the division noted “contemplate[s] both\\n\\n  determinate and indeterminate terms of probation” — and to the\\n\\n  provision’s legislative history. Id. at ¶¶ 40, 42, 46, 305 P.3d at 426-\\n\\n  28. Finally, the division noted that section 18-1.3-202(1) “generally\\n\\n  pertains to a broad class of cases, and it simply allows a trial court\\n\\n  to elect an indeterminate term if it sentences an offender who has\\n\\n  been convicted of a felony to probation.” Id. at ¶ 50, 305 P.3d at\\n\\n  428 (upholding probationary sentence of ten years to life); see also\\n\\n  People v. Martinez, 844 P.2d 1203, 1206 (Colo. App. 1992)\\n\\n  (concluding that a trial court has authority to impose a term of\\n\\n  probation that exceeds the sentence to imprisonment in the\\n\\n  statutory aggravated range for an offense).\\n\\n                               D. Analysis\\n\\n¶ 55   Trujillo asserts that the trial court exceeded its statutory\\n\\n  authority in imposing an indeterminate probationary sentence. We\\n\\n  disagree.\\n\\n¶ 56   Like the Jenkins division, we conclude that section 18-1.3-\\n\\n  202(1) gives a trial court the authority to sentence a defendant\\n\\n\\n                                    22\\n\\x0c  convicted of a felony to an indefinite probationary period. Trujillo\\n\\n  urges that the statute limits a trial court’s authority to impose an\\n\\n  indeterminate probation sentence. Under Trujillo’s logic, a sentence\\n\\n  to probation for 100 years is permissible, but an indeterminate\\n\\n  probation sentence is outside the trial court’s statutory authority.\\n\\n  The statute offers no basis for reaching this conclusion.\\n\\n¶ 57   Trujillo asserts that Jenkins is distinguishable because that\\n\\n  case concerned whether a defendant convicted of a sex offense not\\n\\n  falling under the supervision scheme of the Colorado Sex Offender\\n\\n  Lifetime Supervision Act of 1998 (SOLSA), see §§ 18-1.3-1001\\n\\n  to -1012, C.R.S. 2017, could nevertheless be sentenced to\\n\\n  indeterminate probation. Jenkins, ¶ 1, 305 P.3d at 422. Trujillo\\n\\n  contends that Jenkins was limited to the particular circumstances\\n\\n  of that case, and does not widely apply to all offenses and\\n\\n  defendants. However, the Jenkins division made clear that section\\n\\n  18-1.3-202(1) “establishes a general rule as far as the possibility of\\n\\n  an indeterminate probationary term for felonies” and “authorizes a\\n\\n  trial court to impose an indeterminate term of probation.” Id. at\\n\\n  ¶¶ 38, 50, 305 P.3d at 426, 428. In fact, Jenkins explicitly rejected\\n\\n  the argument that a sentence of indeterminate probation could be\\n\\n\\n                                    23\\n\\x0c  imposed only in sex offense cases subject to SOLSA. Id. at ¶¶ 49-\\n\\n  50, 305 P.3d at 428. Thus, Trujillo’s argument that Jenkins is\\n\\n  limited to sex offenses is unavailing.\\n\\n¶ 58   In sum, we conclude that the trial court did not exceed its\\n\\n  statutory authority in imposing the probation sentence here.\\n\\n                         VI. Costs of Prosecution\\n\\n¶ 59   Trujillo next asserts that the trial court erred in awarding the\\n\\n  full costs of prosecution requested by the People without making a\\n\\n  finding on whether any portion of the costs was attributable to the\\n\\n  charge on which he was acquitted. We agree.\\n\\n                           A. Additional Facts\\n\\n¶ 60   Before sentencing, the People moved for reimbursement of the\\n\\n  costs of prosecution pursuant to section 18-1.3-701, C.R.S. 2017.\\n\\n  The People requested $768.70. Trujillo opposed the motion on the\\n\\n  basis that the People bore responsibility for the costs incurred to\\n\\n  prove the defrauding a secured creditor charge, of which Trujillo\\n\\n  was acquitted.\\n\\n¶ 61   During the sentencing hearing, the trial court awarded the\\n\\n  requested costs of prosecution, ordering Trujillo to pay $768.70.\\n\\n\\n\\n\\n                                    24\\n\\x0c                          B. Standard of Review\\n\\n¶ 62   The trial court, in its discretion, may assess reasonable and\\n\\n  necessary costs of prosecution against a convicted defendant. See\\n\\n  § 18-1.3-701(2)(j.5). Thus, we review an assessment of costs of\\n\\n  prosecution for an abuse of discretion, reversing if the trial court’s\\n\\n  determination is manifestly arbitrary, unreasonable, or unfair,\\n\\n  People v. Palomo, 272 P.3d 1106, 1110 (Colo. App. 2011), or if the\\n\\n  trial court misapplied the law, People v. Jefferson, 2017 CO 35,\\n\\n  ¶ 25, 393 P.3d 493, 499.\\n\\n                             C. Applicable Law\\n\\n¶ 63   Under section 16-18-101(1), C.R.S. 2017, the state bears the\\n\\n  costs of prosecution when a defendant is acquitted. Such costs\\n\\n  may include witness fees, mileage, lodging expenses, transportation\\n\\n  costs, and other reasonable and necessary costs that directly result\\n\\n  from prosecuting the defendant. § 18-1.3-701(2); see also People v.\\n\\n  Sinovcic, 2013 COA 38, ¶¶ 15-16, 304 P.3d 1176, 1179. If a\\n\\n  defendant is convicted of fewer than all of the charged counts, the\\n\\n  court may assess only those costs attributable to the counts for\\n\\n  which the defendant was convicted, if an allocation is practicable.\\n\\n  Palomo, 272 P.3d at 1112.\\n\\n\\n                                    25\\n\\x0c                               D. Analysis\\n\\n¶ 64   Trujillo asserts that the trial court erred in not making a\\n\\n  finding as to whether some portion of the requested costs of\\n\\n  prosecution were allocable to the acquitted charge. We agree.\\n\\n¶ 65   As Trujillo concedes, it is possible that the costs cannot be\\n\\n  allocated between the charge on which he was acquitted and the\\n\\n  two charges on which he was convicted. However, the trial court\\n\\n  did not find that such an allocation was impracticable. Because the\\n\\n  trial court was required to consider whether some portion of the\\n\\n  requested costs was practicably attributable to the acquitted\\n\\n  charge, the trial court abused its discretion. See DeBella v. People,\\n\\n  233 P.3d 664, 667 (Colo. 2010) (failure to exercise discretion\\n\\n  constitutes an abuse of the court’s discretion).\\n\\n¶ 66   Accordingly, we vacate the order awarding the People costs of\\n\\n  prosecution and remand for the trial court to make appropriate\\n\\n  findings of fact and “assess only those costs that are related to the\\n\\n  prosecution of the . . . counts of which [Trujillo] was convicted, to\\n\\n  the extent an allocation is practicable.” Palomo, 272 P.3d at 1113.\\n\\n\\n\\n\\n                                    26\\n\\x0c                    VII. Amendment to Theft Statute\\n\\n¶ 67   Trujillo contends that he should have benefited from an\\n\\n  amendment to the theft statute reclassifying theft between $20,000\\n\\n  and $100,000 as a class 4 felony. We agree.\\n\\n                            A. Additional Facts\\n\\n¶ 68   The General Assembly amended the theft statute on June 5,\\n\\n  2013. See Ch. 373, sec. 1, § 18-4-401, 2013 Colo. Sess. Laws\\n\\n  2196. Under the amended statute, theft between $20,000 and\\n\\n  $100,000 constitutes a class 4 felony. See § 18-4-401(2)(h), C.R.S.\\n\\n  2017. Prior to the amendment, theft over $20,000 constituted a\\n\\n  class 3 felony. § 18-4-401(2)(d), C.R.S. 2011.\\n\\n¶ 69   Trujillo was charged with theft of $20,000 or more in April\\n\\n  2011. He was convicted in October 2013 and sentenced in\\n\\n  December 2013. His theft conviction was recorded on the mittimus\\n\\n  as a class 3 felony.\\n\\n                         B. Standard of Review\\n\\n¶ 70   The People assert that, because Trujillo did not make this\\n\\n  argument before the trial court, we should review only for plain\\n\\n  error. However, the division in People v. Stellabotte rejected this\\n\\n  argument. 2016 COA 106, ¶ 42, ___ P.3d ___, ___ (noting that plain\\n\\n\\n                                    27\\n\\x0c  error review was inappropriate because “a defendant may raise a\\n\\n  claim at any time that his or her sentence was not authorized by\\n\\n  law”) (cert. granted Feb. 6, 2017). Following Stellabotte, we review\\n\\n  the legality of the sentence de novo. Id. at ¶ 4, ___ P.3d at ___.\\n\\n                             C. Applicable Law\\n\\n¶ 71   In determining whether to apply amendments to legislation,\\n\\n  we first look to the plain language of the statute. People v.\\n\\n  Summers, 208 P.3d 251, 253-54 (Colo. 2009). If a statute explicitly\\n\\n  states that it applies only to offenses committed after the effective\\n\\n  date, it must be applied accordingly. See People v. McCoy, 764 P.2d\\n\\n  1171, 1174 (Colo. 1988).\\n\\n¶ 72   As a general rule, “[a] statute is presumed to be prospective in\\n\\n  its operation.” § 2-4-202, C.R.S. 2017. However, if a statute is\\n\\n  silent as to whether it applies only prospectively, a defendant may\\n\\n  seek retroactive application if he or she benefits from a significant\\n\\n  change in the law. § 18-1-410(1)(f)(I), C.R.S. 2017; see also People\\n\\n  v. Thornton, 187 Colo. 202, 203, 529 P.2d 628, 628 (1974) (allowing\\n\\n  defendant to seek relief on direct appeal under statute).\\n\\n¶ 73   In Stellabotte, a division of this court concluded that the\\n\\n  amendatory theft legislation “applies retroactively to cases pending\\n\\n\\n                                    28\\n\\x0c  in the trial court when the amendment was enacted.” Stellabotte,\\n\\n  ¶ 45, ___ P.3d at ___; People v. Patton, 2016 COA 187, ¶ 32, ___ P.3d\\n\\n  ___, ___; see also People v. Patton, (Colo. App. No. 14CA2359, Aug.\\n\\n  11, 2016) (not published pursuant to C.A.R. 35(e)) (cert. granted\\n\\n  Feb. 6, 2017).\\n\\n                                D. Analysis\\n\\n¶ 74   Trujillo contends that the amendment to the theft statute\\n\\n  requires that we vacate his sentence and remand for the trial court\\n\\n  to enter his theft conviction as a class 4 felony. We agree.\\n\\n¶ 75   As the division noted in Stellabotte, the theft amendment does\\n\\n  not explicitly state that it is either retroactive or prospective.\\n\\n  Stellabotte, ¶ 45, ___ P.3d at ___. In the face of this legislative\\n\\n  silence, the division held that a defendant who committed theft\\n\\n  prior to the statutory amendment but was not convicted until after\\n\\n  its passage was entitled to the benefit retroactively. See id. at\\n\\n  ¶¶ 39, 45, ___ P.3d at ___. The same is true here.\\n\\n¶ 76   Trujillo was charged with theft before the statute was\\n\\n  amended, but was not convicted or sentenced until after the\\n\\n  General Assembly lowered the classification for theft between\\n\\n\\n\\n\\n                                      29\\n\\x0c  $20,000 and $100,000.3 Thus, like the defendant in Stellabotte,\\n\\n  Trujillo is entitled to the benefit of the amendment. As a result, we\\n\\n  vacate the sentence for the theft conviction and remand for the\\n\\n  conviction to be entered as a class 4 felony.\\n\\n¶ 77   The partial dissent looks to several statutory provisions in\\n\\n  support of its conclusion that Trujillo is not entitled to the benefit of\\n\\n  the amendatory legislation. First, the partial dissent cites section\\n\\n  2-4-202, which states the general presumption that statutes apply\\n\\n  prospectively. However, as the division noted in Stellabotte, section\\n\\n  18-1-410 is a specific exception to the general rule expressed in\\n\\n  section 2-4-202. Stellabotte, ¶ 47 n.4, ___ P.3d at ___ n.4. We\\n\\n  agree with that analysis. Thus, the general presumption that\\n\\n  statutes apply prospectively does not apply here where Trujillo\\n\\n  seeks the benefit of a “significant change in the law, . . . allowing in\\n\\n\\n\\n\\n  3 Trujillo asserts that the theft was between $20,000 and $100,000\\n  based on testimony from trial. The People do not contest the value\\n  of the stolen property in this case. We therefore assume that\\n  Trujillo’s offense properly fell within the value range set forth in\\n  section 18-4-401(2)(h), C.R.S. 2017.\\n\\n                                     30\\n\\x0c  the interests of justice retroactive application of the changed legal\\n\\n  standard.”4 § 18-1-410(1)(f)(I).\\n\\n¶ 78   The partial dissent also invokes section 2-4-303, C.R.S. 2017,\\n\\n  in support of its conclusion. Section 2-4-303 states:\\n\\n             The repeal, revision, amendment, or\\n             consolidation of any statute or part of a statute\\n             or section or part of a section of any statute\\n             shall not have the effect to release, extinguish,\\n             alter, modify, or change in whole or in part any\\n             penalty, forfeiture, or liability, either civil or\\n             criminal, which shall have been incurred\\n             under such statute, unless the repealing,\\n             revising, amending, or consolidating act so\\n             expressly provides.\\n\\n¶ 79   However, the supreme court has noted that the “general\\n\\n  saving” provision codified in this statute is not applicable to\\n\\n  criminal cases; instead, the court noted in dictum that it “has\\n\\n\\n  4 The partial dissent also asserts that section 18-1-410(1)(f)(I),\\n  C.R.S. 2017, does not provide any relief to Trujillo because that\\n  provision requires that “there has been significant change in the\\n  law, applied to the [defendant’s] conviction or sentence.” The\\n  partial dissent asserts that the phrase “applied to” requires that the\\n  legislation expressly state that it applies retroactively. We disagree\\n  with that interpretation, and believe that our view finds authority in\\n  supreme court case law. See People v. Thomas, 185 Colo. 395, 397,\\n  525 P.2d 1136, 1137 (1974) (noting that “[t]he legislature intended\\n  the changed legal standards to apply wherever constitutionally\\n  permissible” but making no mention of whether the amendatory\\n  legislation reclassifying attempted second degree burglary explicitly\\n  stated that it applied retroactively).\\n\\n                                     31\\n\\x0c  consistently adhered to the principle . . . that a defendant is entitled\\n\\n  to the benefits of amendatory legislation when relief is sought before\\n\\n  finality has attached to the judgment of conviction.” Noe v. Dolan,\\n\\n  197 Colo. 32, 36 n.3, 589 P.2d 483, 486 n.3 (1979).\\n\\n¶ 80   In People v. Boyd, a division of the court of appeals concluded\\n\\n  that section 2-4-303 did not prevent the retroactive effect of an\\n\\n  amendatory constitutional provision. 2015 COA 109, ¶ 27, 395\\n\\n  P.3d 1128, 1134, aff’d, 2017 CO 2, 387 P.3d 755.5 The division\\n\\n  noted the supreme court’s language in Noe. Id. at ¶ 28, 395 P.3d at\\n\\n  1134. To the extent that other supreme court cases included\\n\\n  contrary statements, the Boyd division concluded that such\\n\\n  statements were dicta and that the supreme court had not\\n\\n  overruled or disapproved of either Noe or People v. Thomas, 185\\n\\n  Colo. 395, 398, 525 P.2d 1136, 1138 (1974) (holding that\\n\\n  “amendatory legislation mitigating the penalties for crimes should\\n\\n  be applied to any case which has not received final judgment”).\\n\\n\\n\\n  5 The supreme court in Boyd affirmed the Court of Appeals decision\\n  on different grounds, concluding that the marijuana criminal\\n  offense statute had been rendered inoperative by Amendment 64.\\n  Neither the majority nor the dissent in Boyd cited section 2-4-303,\\n  C.R.S. 2017.\\n\\n                                    32\\n\\x0c  Boyd, ¶¶ 29-30, 395 P.3d at 1134-35. Finally, the Boyd division\\n\\n  concluded that section 18-1-410(1)(f)(I) controls over section 2-4-\\n\\n  303 because the former sets forth a specific exception to the latter,\\n\\n  which codifies a “general rule[] of construction regarding\\n\\n  prospective effect for amendatory legislation.” Id. at ¶¶ 31-32, 395\\n\\n  P.3d at 1135. We agree with the Boyd division’s analysis and\\n\\n  therefore do not perceive section 2-4-303 as a bar to the relief\\n\\n  Trujillo seeks.\\n\\n¶ 81   In making its statutory arguments, the partial dissent relies\\n\\n  on the plain meaning of both section 2-4-303 and section 18-1-\\n\\n  410(1)(f)(I). However, as discussed, the supreme court has not\\n\\n  given either provision its plain meaning. Despite express reference\\n\\n  in section 2-4-303 to civil and criminal penalties, the supreme court\\n\\n  has indicated that the provision does not apply to criminal cases.\\n\\n  Noe, 197 Colo. at 36 n.3, 589 P.2d at 486 n.3. Similarly, while\\n\\n  section 18-1-410(1)(f)(I) by its express terms applies to defendants\\n\\n  seeking postconviction relief, the supreme court has held that the\\n\\n  statute also extends to defendants seeking relief on direct appeal.\\n\\n  Thornton, 187 Colo. at 203, 529 P.2d at 628. In light of the\\n\\n\\n\\n\\n                                    33\\n\\x0c  supreme court’s interpretation of these statutes, we cannot give\\n\\n  them the meanings that the partial dissent ascribes to them.\\n\\n¶ 82   Finally, the partial dissent also relies on Riley v. People, in\\n\\n  which the supreme court noted that it has “emphasized that a\\n\\n  defendant is not entitled to the ameliorative effects of amendatory\\n\\n  legislation if the General Assembly has not clearly indicated its\\n\\n  intent to require such retroactive application.” 828 P.2d 254, 258\\n\\n  (Colo. 1992). However, we do not consider this statement to have\\n\\n  the controlling effect the partial dissent gives it. In Riley, the\\n\\n  defendant committed a crime in April 1988 and sought relief under\\n\\n  two sentencing provisions that expressly stated they applied to acts\\n\\n  “committed on or after” July 1, 1988. Id. at 255-56. The Riley\\n\\n  court held the defendant there was not entitled to relief because\\n\\n  applying the statutes retroactively would require the court to ignore\\n\\n  the “clear legislative determination” that the amended sentencing\\n\\n  provisions would apply only to acts after that date. Id. at 257.\\n\\n¶ 83   Thus, Riley is readily distinguishable from the present case,\\n\\n  where the amendments to the theft statute do not expressly provide\\n\\n  an effective date, and the language relied on by the partial dissent is\\n\\n  dicta. Accord McCoy, 764 P.2d at 1174 (noting that, where\\n\\n\\n                                     34\\n\\x0c  legislation expressly stated it applied to acts committed on or after\\n\\n  its effective date, a “defendant does not receive any ameliorative\\n\\n  benefit” because “retroactive application of the amendatory\\n\\n  legislation is clearly not intended by its own terms”); People v.\\n\\n  Macias, 631 P.2d 584, 587 (Colo. 1981) (same).\\n\\n¶ 84   Thus, we conclude, in accordance with Stellabotte, that Trujillo\\n\\n  should receive the benefit of the amendment to the theft statute\\n\\n  reclassifying theft between $20,000 and $100,000 as a class 4\\n\\n  felony. See Stellabotte, ¶ 40, ___ P.3d at ___.\\n\\n                               VIII. Conclusion\\n\\n¶ 85   Accordingly, the judgment of conviction is affirmed. The\\n\\n  sentence is affirmed in part and vacated in part, and the case is\\n\\n  remanded for further proceedings consistent with the views\\n\\n  expressed in this opinion.\\n\\n       JUDGE RICHMAN concurs.\\n\\n       JUDGE FURMAN concurs in part and dissents in part.\\n\\n\\n\\n\\n                                     35\\n\\x0c          JUDGE FURMAN, concurring in part and dissenting in part.\\n\\n¶ 86      I respectfully dissent from the majority’s opinion only as to the\\n\\n  effect of the 2013 amendments to the theft statute. I conclude that\\n\\n  the 2013 amendments to the theft statute do not apply retroactively\\n\\n  to Trujillo’s case. I reach this conclusion for several reasons.\\n\\n¶ 87      First, the General Assembly has made it clear that a “statute is\\n\\n  presumed to be prospective in its operation.” § 2-4-202, C.R.S.\\n\\n  2017. The 2013 amendments to the theft statute are silent as to\\n\\n  whether they apply prospectively or retroactively. Therefore, I\\n\\n  presume that the 2013 amendments are prospective in operation\\n\\n  and do not apply to Trujillo’s offense, which occurred before 2013.\\n\\n  See id.\\n\\n¶ 88      Second, an amendment to a criminal statute does not change\\n\\n  the penalty for crimes already committed under the statute unless\\n\\n  the amendatory legislation expressly provides for such a change.\\n\\n  See § 2-4-303, C.R.S. 2017. Section 2-4-303 provides, in relevant\\n\\n  part:\\n\\n               The . . . amendment . . . of any statute or part\\n               of a statute . . . shall not have the effect to\\n               release, extinguish, alter, modify, or change in\\n               whole or in part any penalty, forfeiture, or\\n               liability, either civil or criminal, which shall\\n\\n\\n                                      36\\n\\x0c             have been incurred under such statute, unless\\n             the . . . amending . . . act so expressly\\n             provides, and such statute or part of a statute\\n             . . . so . . . amended . . . shall be treated and\\n             held as still remaining in force for the purpose\\n             of sustaining any and all proper actions, suits,\\n             proceedings, and prosecutions, criminal as\\n             well as civil, for the enforcement of such\\n             penalty, forfeiture, or liability, as well as for\\n             the purpose of sustaining any judgment,\\n             decree, or order which can or may be rendered,\\n             entered, or made in such actions, suits,\\n             proceedings, or prosecutions imposing,\\n             inflicting, or declaring such penalty, forfeiture,\\n             or liability.\\n\\n  Because the 2013 amendments to the theft statute do not expressly\\n\\n  provide that they apply retroactively, and Trujillo committed his\\n\\n  crime before 2013, he is liable for theft as it was defined when he\\n\\n  committed the offense. See id.\\n\\n¶ 89   Third, in Riley v. People, 828 P.2d 254, 258 (Colo. 1992), our\\n\\n  supreme court “emphasized that a defendant is not entitled to the\\n\\n  ameliorative effects of amendatory legislation if the General\\n\\n  Assembly has not clearly indicated its intent to require such\\n\\n  retroactive application.” Id. I consider this statement by the\\n\\n  supreme court about its own jurisprudence on this issue to be\\n\\n  controlling.\\n\\n\\n\\n\\n                                    37\\n\\x0c¶ 90   Fourth, section 18-1-410(1)(f)(I), C.R.S. 2017, does not allow\\n\\n  Trujillo, on direct appeal, to seek retroactive application of the 2013\\n\\n  amendments to his case. Section 18-1-410(1)(f)(I) allows a\\n\\n  defendant to seek retroactive application of a “significant change in\\n\\n  the law, applied to” a defendant’s “conviction or sentence.” I believe\\n\\n  that the phrase “applied to” reflects the General Assembly’s intent\\n\\n  that, for amendatory legislation to apply retroactively to a\\n\\n  defendant’s conviction or sentence, the legislation must state that it\\n\\n  applies retroactively. Thus, because, as noted, the 2013\\n\\n  amendments do not state that they apply retroactively to Trujillo’s\\n\\n  conviction and sentence, he may not seek retroactive application\\n\\n  under section 18-1-410(1)(f)(I).\\n\\n¶ 91   Finally, and with all due respect, I decline to follow People v.\\n\\n  Stellabotte, 2016 COA 106 (cert. granted Feb. 6, 2017). Indeed, I\\n\\n  agree with Judge Dailey’s dissent in Stellabotte. See id. at ¶¶ 62-70\\n\\n  (Dailey, J., concurring in part and dissenting in part).\\n\\n\\n\\n\\n                                     38\\n\\x0c',\n",
       " 'meta': {'pile_set_name': 'FreeLaw'}}"
      ]
     },
     "execution_count": 105,
     "metadata": {},
     "output_type": "execute_result"
    }
   ],
   "source": [
    "law_dataset = load_dataset(\n",
    "    \"timaeus/pile-freelaw\",\n",
    "    split=\"train\",\n",
    "    streaming=True,\n",
    ")\n",
    "\n",
    "next(iter(law_dataset))"
   ]
  },
  {
   "cell_type": "code",
   "execution_count": 113,
   "id": "9241421b",
   "metadata": {},
   "outputs": [],
   "source": [
    "combined_dataset = interleave_datasets([pubmed_dataset, law_dataset])\n",
    "# Will give error because each dataset has a different schema\n",
    "# Make sure that all datasets have the same schema or process them separately\n",
    "# list(islice(combined_dataset, 2))"
   ]
  }
 ],
 "metadata": {
  "kernelspec": {
   "display_name": "Python 3",
   "language": "python",
   "name": "python3"
  },
  "language_info": {
   "codemirror_mode": {
    "name": "ipython",
    "version": 3
   },
   "file_extension": ".py",
   "mimetype": "text/x-python",
   "name": "python",
   "nbconvert_exporter": "python",
   "pygments_lexer": "ipython3",
   "version": "3.11.9"
  }
 },
 "nbformat": 4,
 "nbformat_minor": 5
}
